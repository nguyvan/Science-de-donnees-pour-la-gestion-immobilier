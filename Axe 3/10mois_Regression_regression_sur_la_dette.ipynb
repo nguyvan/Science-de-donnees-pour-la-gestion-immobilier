{
 "cells": [
  {
   "cell_type": "markdown",
   "metadata": {},
   "source": [
    "# AP01 : Protocole 4 : Regression"
   ]
  },
  {
   "cell_type": "markdown",
   "metadata": {},
   "source": [
    "Dans cette approche, nous allons réaliser des régressions avec comme variables explicatives des valeurs de loyers passées par rapport à la variable de sortie qui serait un mois en particulier."
   ]
  },
  {
   "cell_type": "code",
   "execution_count": 32,
   "metadata": {},
   "outputs": [],
   "source": [
    "import pandas as pd\n",
    "import numpy as np\n",
    "import seaborn as sns\n",
    "import matplotlib.pyplot as plt"
   ]
  },
  {
   "cell_type": "code",
   "execution_count": 33,
   "metadata": {},
   "outputs": [],
   "source": [
    "data = pd.read_csv('Clean_Dataset_output_clients_menages_tabular.csv')"
   ]
  },
  {
   "cell_type": "code",
   "execution_count": 34,
   "metadata": {},
   "outputs": [
    {
     "name": "stdout",
     "output_type": "stream",
     "text": [
      "<class 'pandas.core.frame.DataFrame'>\n",
      "RangeIndex: 19970 entries, 0 to 19969\n",
      "Columns: 222 entries, age_std_x to cnc_dtdval\n",
      "dtypes: float64(207), int64(1), object(14)\n",
      "memory usage: 33.8+ MB\n"
     ]
    }
   ],
   "source": [
    "# data.columns\n",
    "data.info()"
   ]
  },
  {
   "cell_type": "markdown",
   "metadata": {},
   "source": [
    "On peut voir que notre dataset possède actuellement 19970 lignes et 222 colonnes."
   ]
  },
  {
   "cell_type": "markdown",
   "metadata": {},
   "source": [
    "## 1. Préparation des données"
   ]
  },
  {
   "cell_type": "markdown",
   "metadata": {},
   "source": [
    "### 1.1. Prise en main des colonnes pertinentes"
   ]
  },
  {
   "cell_type": "markdown",
   "metadata": {},
   "source": [
    "Dans un premier temps, on pratiquera la régression sur le solde. Cependant on pourra travailler plus tard sur une grandeur `dette relative` sensée offrir une possibilité de comparaison **plus interprétable**.\n",
    "\n",
    "`dette relative = solde/echeances`"
   ]
  },
  {
   "cell_type": "code",
   "execution_count": 35,
   "metadata": {},
   "outputs": [],
   "source": [
    "# Quelques données dont on aura besoin\n",
    "mois_connus = ['20180131', '20180228', '20180331', '20180430', '20180531', '20180630', '20180731', '20180831', '20180930', '20181031', '20181130', '20181231','20190131', '20190228', '20190331', '20190430', '20190531', '20190630', '20190731', '20190831', '20190930']\n",
    "\n",
    "# Noms des colonnes\n",
    "new_columns = ['dette_relative_' + mois for mois in mois_connus]\n",
    "# new_columns"
   ]
  },
  {
   "cell_type": "markdown",
   "metadata": {},
   "source": [
    "Les variables à utiliser pour le calcul de la dette relative sont: \n",
    "* `solde_std_201xxxxx`\n",
    "* `mnt_ttc_echeance_std_201xxxxx`\n"
   ]
  },
  {
   "cell_type": "markdown",
   "metadata": {},
   "source": [
    "#### a) Variables des échéances"
   ]
  },
  {
   "cell_type": "code",
   "execution_count": 36,
   "metadata": {},
   "outputs": [
    {
     "data": {
      "text/html": [
       "<div>\n",
       "<style scoped>\n",
       "    .dataframe tbody tr th:only-of-type {\n",
       "        vertical-align: middle;\n",
       "    }\n",
       "\n",
       "    .dataframe tbody tr th {\n",
       "        vertical-align: top;\n",
       "    }\n",
       "\n",
       "    .dataframe thead th {\n",
       "        text-align: right;\n",
       "    }\n",
       "</style>\n",
       "<table border=\"1\" class=\"dataframe\">\n",
       "  <thead>\n",
       "    <tr style=\"text-align: right;\">\n",
       "      <th></th>\n",
       "      <th>mnt_ttc_echeance_std_20180131</th>\n",
       "      <th>mnt_ttc_echeance_std_20180228</th>\n",
       "      <th>mnt_ttc_echeance_std_20180331</th>\n",
       "      <th>mnt_ttc_echeance_std_20180430</th>\n",
       "      <th>mnt_ttc_echeance_std_20180531</th>\n",
       "      <th>mnt_ttc_echeance_std_20180630</th>\n",
       "      <th>mnt_ttc_echeance_std_20180731</th>\n",
       "      <th>mnt_ttc_echeance_std_20180831</th>\n",
       "      <th>mnt_ttc_echeance_std_20180930</th>\n",
       "      <th>mnt_ttc_echeance_std_20181031</th>\n",
       "      <th>...</th>\n",
       "      <th>mnt_ttc_echeance_std_20181231</th>\n",
       "      <th>mnt_ttc_echeance_std_20190131</th>\n",
       "      <th>mnt_ttc_echeance_std_20190228</th>\n",
       "      <th>mnt_ttc_echeance_std_20190331</th>\n",
       "      <th>mnt_ttc_echeance_std_20190430</th>\n",
       "      <th>mnt_ttc_echeance_std_20190531</th>\n",
       "      <th>mnt_ttc_echeance_std_20190630</th>\n",
       "      <th>mnt_ttc_echeance_std_20190731</th>\n",
       "      <th>mnt_ttc_echeance_std_20190831</th>\n",
       "      <th>mnt_ttc_echeance_std_20190930</th>\n",
       "    </tr>\n",
       "  </thead>\n",
       "  <tbody>\n",
       "    <tr>\n",
       "      <th>0</th>\n",
       "      <td>528.85</td>\n",
       "      <td>528.85</td>\n",
       "      <td>528.85</td>\n",
       "      <td>528.85</td>\n",
       "      <td>528.85</td>\n",
       "      <td>528.85</td>\n",
       "      <td>528.85</td>\n",
       "      <td>528.85</td>\n",
       "      <td>528.85</td>\n",
       "      <td>528.85</td>\n",
       "      <td>...</td>\n",
       "      <td>528.85</td>\n",
       "      <td>534.90</td>\n",
       "      <td>534.90</td>\n",
       "      <td>534.90</td>\n",
       "      <td>534.90</td>\n",
       "      <td>534.90</td>\n",
       "      <td>534.90</td>\n",
       "      <td>534.90</td>\n",
       "      <td>534.90</td>\n",
       "      <td>534.90</td>\n",
       "    </tr>\n",
       "    <tr>\n",
       "      <th>1</th>\n",
       "      <td>528.85</td>\n",
       "      <td>528.85</td>\n",
       "      <td>528.85</td>\n",
       "      <td>528.85</td>\n",
       "      <td>528.85</td>\n",
       "      <td>528.85</td>\n",
       "      <td>528.85</td>\n",
       "      <td>528.85</td>\n",
       "      <td>528.85</td>\n",
       "      <td>528.85</td>\n",
       "      <td>...</td>\n",
       "      <td>528.85</td>\n",
       "      <td>534.90</td>\n",
       "      <td>534.90</td>\n",
       "      <td>534.90</td>\n",
       "      <td>534.90</td>\n",
       "      <td>534.90</td>\n",
       "      <td>534.90</td>\n",
       "      <td>534.90</td>\n",
       "      <td>534.90</td>\n",
       "      <td>534.90</td>\n",
       "    </tr>\n",
       "    <tr>\n",
       "      <th>2</th>\n",
       "      <td>709.41</td>\n",
       "      <td>709.41</td>\n",
       "      <td>709.41</td>\n",
       "      <td>709.41</td>\n",
       "      <td>709.41</td>\n",
       "      <td>709.41</td>\n",
       "      <td>709.41</td>\n",
       "      <td>709.41</td>\n",
       "      <td>709.41</td>\n",
       "      <td>709.41</td>\n",
       "      <td>...</td>\n",
       "      <td>709.41</td>\n",
       "      <td>717.65</td>\n",
       "      <td>717.65</td>\n",
       "      <td>717.65</td>\n",
       "      <td>717.65</td>\n",
       "      <td>717.65</td>\n",
       "      <td>717.65</td>\n",
       "      <td>717.65</td>\n",
       "      <td>717.65</td>\n",
       "      <td>717.65</td>\n",
       "    </tr>\n",
       "    <tr>\n",
       "      <th>3</th>\n",
       "      <td>542.83</td>\n",
       "      <td>542.83</td>\n",
       "      <td>542.83</td>\n",
       "      <td>542.83</td>\n",
       "      <td>542.83</td>\n",
       "      <td>542.83</td>\n",
       "      <td>542.83</td>\n",
       "      <td>542.83</td>\n",
       "      <td>542.83</td>\n",
       "      <td>542.83</td>\n",
       "      <td>...</td>\n",
       "      <td>542.83</td>\n",
       "      <td>549.36</td>\n",
       "      <td>549.36</td>\n",
       "      <td>549.36</td>\n",
       "      <td>931.05</td>\n",
       "      <td>549.36</td>\n",
       "      <td>549.36</td>\n",
       "      <td>549.36</td>\n",
       "      <td>549.36</td>\n",
       "      <td>549.36</td>\n",
       "    </tr>\n",
       "    <tr>\n",
       "      <th>4</th>\n",
       "      <td>0.00</td>\n",
       "      <td>0.00</td>\n",
       "      <td>0.00</td>\n",
       "      <td>0.00</td>\n",
       "      <td>0.00</td>\n",
       "      <td>0.00</td>\n",
       "      <td>566.12</td>\n",
       "      <td>650.00</td>\n",
       "      <td>650.00</td>\n",
       "      <td>650.00</td>\n",
       "      <td>...</td>\n",
       "      <td>650.00</td>\n",
       "      <td>657.50</td>\n",
       "      <td>657.50</td>\n",
       "      <td>657.50</td>\n",
       "      <td>657.50</td>\n",
       "      <td>657.50</td>\n",
       "      <td>657.50</td>\n",
       "      <td>657.50</td>\n",
       "      <td>657.50</td>\n",
       "      <td>657.50</td>\n",
       "    </tr>\n",
       "  </tbody>\n",
       "</table>\n",
       "<p>5 rows × 21 columns</p>\n",
       "</div>"
      ],
      "text/plain": [
       "   mnt_ttc_echeance_std_20180131  mnt_ttc_echeance_std_20180228  \\\n",
       "0                         528.85                         528.85   \n",
       "1                         528.85                         528.85   \n",
       "2                         709.41                         709.41   \n",
       "3                         542.83                         542.83   \n",
       "4                           0.00                           0.00   \n",
       "\n",
       "   mnt_ttc_echeance_std_20180331  mnt_ttc_echeance_std_20180430  \\\n",
       "0                         528.85                         528.85   \n",
       "1                         528.85                         528.85   \n",
       "2                         709.41                         709.41   \n",
       "3                         542.83                         542.83   \n",
       "4                           0.00                           0.00   \n",
       "\n",
       "   mnt_ttc_echeance_std_20180531  mnt_ttc_echeance_std_20180630  \\\n",
       "0                         528.85                         528.85   \n",
       "1                         528.85                         528.85   \n",
       "2                         709.41                         709.41   \n",
       "3                         542.83                         542.83   \n",
       "4                           0.00                           0.00   \n",
       "\n",
       "   mnt_ttc_echeance_std_20180731  mnt_ttc_echeance_std_20180831  \\\n",
       "0                         528.85                         528.85   \n",
       "1                         528.85                         528.85   \n",
       "2                         709.41                         709.41   \n",
       "3                         542.83                         542.83   \n",
       "4                         566.12                         650.00   \n",
       "\n",
       "   mnt_ttc_echeance_std_20180930  mnt_ttc_echeance_std_20181031  ...  \\\n",
       "0                         528.85                         528.85  ...   \n",
       "1                         528.85                         528.85  ...   \n",
       "2                         709.41                         709.41  ...   \n",
       "3                         542.83                         542.83  ...   \n",
       "4                         650.00                         650.00  ...   \n",
       "\n",
       "   mnt_ttc_echeance_std_20181231  mnt_ttc_echeance_std_20190131  \\\n",
       "0                         528.85                         534.90   \n",
       "1                         528.85                         534.90   \n",
       "2                         709.41                         717.65   \n",
       "3                         542.83                         549.36   \n",
       "4                         650.00                         657.50   \n",
       "\n",
       "   mnt_ttc_echeance_std_20190228  mnt_ttc_echeance_std_20190331  \\\n",
       "0                         534.90                         534.90   \n",
       "1                         534.90                         534.90   \n",
       "2                         717.65                         717.65   \n",
       "3                         549.36                         549.36   \n",
       "4                         657.50                         657.50   \n",
       "\n",
       "   mnt_ttc_echeance_std_20190430  mnt_ttc_echeance_std_20190531  \\\n",
       "0                         534.90                         534.90   \n",
       "1                         534.90                         534.90   \n",
       "2                         717.65                         717.65   \n",
       "3                         931.05                         549.36   \n",
       "4                         657.50                         657.50   \n",
       "\n",
       "   mnt_ttc_echeance_std_20190630  mnt_ttc_echeance_std_20190731  \\\n",
       "0                         534.90                         534.90   \n",
       "1                         534.90                         534.90   \n",
       "2                         717.65                         717.65   \n",
       "3                         549.36                         549.36   \n",
       "4                         657.50                         657.50   \n",
       "\n",
       "   mnt_ttc_echeance_std_20190831  mnt_ttc_echeance_std_20190930  \n",
       "0                         534.90                         534.90  \n",
       "1                         534.90                         534.90  \n",
       "2                         717.65                         717.65  \n",
       "3                         549.36                         549.36  \n",
       "4                         657.50                         657.50  \n",
       "\n",
       "[5 rows x 21 columns]"
      ]
     },
     "execution_count": 36,
     "metadata": {},
     "output_type": "execute_result"
    }
   ],
   "source": [
    "# On isole les colonnes contenant les échéances de chaque mois\n",
    "echeances_test = [col for col in data.columns if 'echeance' in col]\n",
    "data[echeances_test].head()"
   ]
  },
  {
   "cell_type": "markdown",
   "metadata": {},
   "source": [
    "#### b) Variables des soldes"
   ]
  },
  {
   "cell_type": "code",
   "execution_count": 37,
   "metadata": {},
   "outputs": [
    {
     "data": {
      "text/html": [
       "<div>\n",
       "<style scoped>\n",
       "    .dataframe tbody tr th:only-of-type {\n",
       "        vertical-align: middle;\n",
       "    }\n",
       "\n",
       "    .dataframe tbody tr th {\n",
       "        vertical-align: top;\n",
       "    }\n",
       "\n",
       "    .dataframe thead th {\n",
       "        text-align: right;\n",
       "    }\n",
       "</style>\n",
       "<table border=\"1\" class=\"dataframe\">\n",
       "  <thead>\n",
       "    <tr style=\"text-align: right;\">\n",
       "      <th></th>\n",
       "      <th>solde_std_20180131</th>\n",
       "      <th>solde_std_20180228</th>\n",
       "      <th>solde_std_20180331</th>\n",
       "      <th>solde_std_20180430</th>\n",
       "      <th>solde_std_20180531</th>\n",
       "      <th>solde_std_20180630</th>\n",
       "      <th>solde_std_20180731</th>\n",
       "      <th>solde_std_20180831</th>\n",
       "      <th>solde_std_20180930</th>\n",
       "      <th>solde_std_20181031</th>\n",
       "      <th>...</th>\n",
       "      <th>solde_std_20181231</th>\n",
       "      <th>solde_std_20190131</th>\n",
       "      <th>solde_std_20190228</th>\n",
       "      <th>solde_std_20190331</th>\n",
       "      <th>solde_std_20190430</th>\n",
       "      <th>solde_std_20190531</th>\n",
       "      <th>solde_std_20190630</th>\n",
       "      <th>solde_std_20190731</th>\n",
       "      <th>solde_std_20190831</th>\n",
       "      <th>solde_std_20190930</th>\n",
       "    </tr>\n",
       "  </thead>\n",
       "  <tbody>\n",
       "    <tr>\n",
       "      <th>0</th>\n",
       "      <td>-81.18</td>\n",
       "      <td>-82.33</td>\n",
       "      <td>-83.48</td>\n",
       "      <td>-84.63</td>\n",
       "      <td>-85.78</td>\n",
       "      <td>-86.93</td>\n",
       "      <td>-88.08</td>\n",
       "      <td>-158.18</td>\n",
       "      <td>0.67</td>\n",
       "      <td>-0.48</td>\n",
       "      <td>...</td>\n",
       "      <td>-2.78</td>\n",
       "      <td>-3.93</td>\n",
       "      <td>0.97</td>\n",
       "      <td>5.87</td>\n",
       "      <td>10.77</td>\n",
       "      <td>-4.33</td>\n",
       "      <td>-19.43</td>\n",
       "      <td>-34.53</td>\n",
       "      <td>-112.29</td>\n",
       "      <td>-127.39</td>\n",
       "    </tr>\n",
       "    <tr>\n",
       "      <th>1</th>\n",
       "      <td>-653.09</td>\n",
       "      <td>-541.24</td>\n",
       "      <td>-758.09</td>\n",
       "      <td>-372.85</td>\n",
       "      <td>-370.00</td>\n",
       "      <td>-1256.46</td>\n",
       "      <td>-990.61</td>\n",
       "      <td>-194.28</td>\n",
       "      <td>-408.19</td>\n",
       "      <td>-480.74</td>\n",
       "      <td>...</td>\n",
       "      <td>-889.73</td>\n",
       "      <td>-264.96</td>\n",
       "      <td>-264.96</td>\n",
       "      <td>-132.92</td>\n",
       "      <td>-132.04</td>\n",
       "      <td>-132.04</td>\n",
       "      <td>-132.04</td>\n",
       "      <td>-264.08</td>\n",
       "      <td>70.26</td>\n",
       "      <td>137.90</td>\n",
       "    </tr>\n",
       "    <tr>\n",
       "      <th>2</th>\n",
       "      <td>488.89</td>\n",
       "      <td>438.89</td>\n",
       "      <td>741.30</td>\n",
       "      <td>691.30</td>\n",
       "      <td>641.30</td>\n",
       "      <td>238.89</td>\n",
       "      <td>188.89</td>\n",
       "      <td>71.81</td>\n",
       "      <td>-18.59</td>\n",
       "      <td>323.21</td>\n",
       "      <td>...</td>\n",
       "      <td>0.00</td>\n",
       "      <td>709.41</td>\n",
       "      <td>0.02</td>\n",
       "      <td>404.64</td>\n",
       "      <td>850.29</td>\n",
       "      <td>606.95</td>\n",
       "      <td>606.95</td>\n",
       "      <td>0.02</td>\n",
       "      <td>-58.49</td>\n",
       "      <td>-58.49</td>\n",
       "    </tr>\n",
       "    <tr>\n",
       "      <th>3</th>\n",
       "      <td>52.54</td>\n",
       "      <td>52.54</td>\n",
       "      <td>6.37</td>\n",
       "      <td>549.20</td>\n",
       "      <td>0.00</td>\n",
       "      <td>0.00</td>\n",
       "      <td>0.00</td>\n",
       "      <td>-1.12</td>\n",
       "      <td>0.00</td>\n",
       "      <td>0.00</td>\n",
       "      <td>...</td>\n",
       "      <td>0.00</td>\n",
       "      <td>0.00</td>\n",
       "      <td>0.00</td>\n",
       "      <td>0.00</td>\n",
       "      <td>0.00</td>\n",
       "      <td>0.00</td>\n",
       "      <td>0.00</td>\n",
       "      <td>0.00</td>\n",
       "      <td>-137.00</td>\n",
       "      <td>0.00</td>\n",
       "    </tr>\n",
       "    <tr>\n",
       "      <th>4</th>\n",
       "      <td>0.00</td>\n",
       "      <td>0.00</td>\n",
       "      <td>0.00</td>\n",
       "      <td>0.00</td>\n",
       "      <td>0.00</td>\n",
       "      <td>599.77</td>\n",
       "      <td>599.77</td>\n",
       "      <td>1165.89</td>\n",
       "      <td>1216.12</td>\n",
       "      <td>2465.89</td>\n",
       "      <td>...</td>\n",
       "      <td>1820.11</td>\n",
       "      <td>1888.41</td>\n",
       "      <td>1911.63</td>\n",
       "      <td>1895.89</td>\n",
       "      <td>1845.89</td>\n",
       "      <td>1795.89</td>\n",
       "      <td>1745.89</td>\n",
       "      <td>1695.89</td>\n",
       "      <td>1595.89</td>\n",
       "      <td>1545.89</td>\n",
       "    </tr>\n",
       "  </tbody>\n",
       "</table>\n",
       "<p>5 rows × 21 columns</p>\n",
       "</div>"
      ],
      "text/plain": [
       "   solde_std_20180131  solde_std_20180228  solde_std_20180331  \\\n",
       "0              -81.18              -82.33              -83.48   \n",
       "1             -653.09             -541.24             -758.09   \n",
       "2              488.89              438.89              741.30   \n",
       "3               52.54               52.54                6.37   \n",
       "4                0.00                0.00                0.00   \n",
       "\n",
       "   solde_std_20180430  solde_std_20180531  solde_std_20180630  \\\n",
       "0              -84.63              -85.78              -86.93   \n",
       "1             -372.85             -370.00            -1256.46   \n",
       "2              691.30              641.30              238.89   \n",
       "3              549.20                0.00                0.00   \n",
       "4                0.00                0.00              599.77   \n",
       "\n",
       "   solde_std_20180731  solde_std_20180831  solde_std_20180930  \\\n",
       "0              -88.08             -158.18                0.67   \n",
       "1             -990.61             -194.28             -408.19   \n",
       "2              188.89               71.81              -18.59   \n",
       "3                0.00               -1.12                0.00   \n",
       "4              599.77             1165.89             1216.12   \n",
       "\n",
       "   solde_std_20181031  ...  solde_std_20181231  solde_std_20190131  \\\n",
       "0               -0.48  ...               -2.78               -3.93   \n",
       "1             -480.74  ...             -889.73             -264.96   \n",
       "2              323.21  ...                0.00              709.41   \n",
       "3                0.00  ...                0.00                0.00   \n",
       "4             2465.89  ...             1820.11             1888.41   \n",
       "\n",
       "   solde_std_20190228  solde_std_20190331  solde_std_20190430  \\\n",
       "0                0.97                5.87               10.77   \n",
       "1             -264.96             -132.92             -132.04   \n",
       "2                0.02              404.64              850.29   \n",
       "3                0.00                0.00                0.00   \n",
       "4             1911.63             1895.89             1845.89   \n",
       "\n",
       "   solde_std_20190531  solde_std_20190630  solde_std_20190731  \\\n",
       "0               -4.33              -19.43              -34.53   \n",
       "1             -132.04             -132.04             -264.08   \n",
       "2              606.95              606.95                0.02   \n",
       "3                0.00                0.00                0.00   \n",
       "4             1795.89             1745.89             1695.89   \n",
       "\n",
       "   solde_std_20190831  solde_std_20190930  \n",
       "0             -112.29             -127.39  \n",
       "1               70.26              137.90  \n",
       "2              -58.49              -58.49  \n",
       "3             -137.00                0.00  \n",
       "4             1595.89             1545.89  \n",
       "\n",
       "[5 rows x 21 columns]"
      ]
     },
     "execution_count": 37,
     "metadata": {},
     "output_type": "execute_result"
    }
   ],
   "source": [
    "# On isole les variables contenant le solde\n",
    "soldes_test = [col for col in data.columns if 'solde_std_' in col]\n",
    "data[soldes_test].head()"
   ]
  },
  {
   "cell_type": "markdown",
   "metadata": {},
   "source": [
    "### 1.2. Sélection des périodes temporelles"
   ]
  },
  {
   "cell_type": "markdown",
   "metadata": {},
   "source": [
    "On a récupéré au préalable (dans un autre protocole) une liste indiquant pour un nombre donné de mois consécutifs l'intervalle de temps contenant le plus de données. \n",
    "\n",
    "La liste ci-dessous donne:\n",
    "`[nombre de mois, nombre de données, premier mois, dernier mois]`"
   ]
  },
  {
   "cell_type": "code",
   "execution_count": 38,
   "metadata": {},
   "outputs": [],
   "source": [
    "# Cette variable n'est là qu'à titre indicatif ici, on ne l'utilise pas par la suite\n",
    "# On pourrait cependant faire boucler la suite du code sur chaque période temporelle > 1\n",
    "\n",
    "df_periodes = [[1, 19577, '2019-09-30', '2019-09-30'],\n",
    " [2, 17811, '2018-12-31', '2019-01-31'],\n",
    " [3, 17512, '2018-12-31', '2019-02-28'],\n",
    " [4, 17467, '2019-01-31', '2019-04-30'],\n",
    " [5, 17460, '2019-01-31', '2019-05-31'],\n",
    " [6, 17459, '2019-04-30', '2019-09-30'],\n",
    " [7, 17459, '20190331', '20190930'],\n",
    " [8, 17459, '2019-02-28', '2019-09-30'],\n",
    " [9, 17456, '2019-01-31', '2019-09-30'],\n",
    " [10, 17418, '2018-12-31', '2019-09-30'],\n",
    " [11, 6921, '2018-03-31', '2019-01-31'],\n",
    " [12, 6913, '2018-02-28', '2019-01-31'],\n",
    " [13, 6832, '2018-02-28', '2019-02-28'],\n",
    " [14, 6803, '2018-08-31', '2019-09-30'],\n",
    " [15, 6800, '2018-07-31', '2019-09-30'],\n",
    " [16, 6797, '2018-06-30', '2019-09-30'],\n",
    " [17, 6793, '2018-05-31', '2019-09-30'],\n",
    " [18, 6765, '2018-04-30', '2019-09-30'],\n",
    " [19, 6749, '2018-03-31', '2019-09-30'],\n",
    " [20, 6741, '2018-02-28', '2019-09-30'],\n",
    " [21, 6609, '2018-01-31', '2019-09-30']]"
   ]
  },
  {
   "cell_type": "markdown",
   "metadata": {},
   "source": [
    "On pourra réaliser des régressions sur plusieurs de ces périodes, nous commencerons avec 4 mois (3 premiers mois comme variables explicatives, dernier mois comme variable à expliquer)."
   ]
  },
  {
   "cell_type": "markdown",
   "metadata": {},
   "source": [
    "### 1.3. Isolation des données pour notre étude"
   ]
  },
  {
   "cell_type": "markdown",
   "metadata": {},
   "source": [
    "Dans cette section, on s'évertuera, sur la période de temps choisie de 4 mois (20190131 - 20190430), à nettoyer les données en enlevant les lignes incomplètes."
   ]
  },
  {
   "cell_type": "code",
   "execution_count": 39,
   "metadata": {},
   "outputs": [],
   "source": [
    "# Tout d'abord on peut isoler les variables solde et echeance afin de ne pas empiéter sur le dataset d'origine\n",
    "df = data[soldes_test + echeances_test]\n",
    "# df.info()"
   ]
  },
  {
   "cell_type": "markdown",
   "metadata": {},
   "source": [
    "#### a) Filtrage des colonnes"
   ]
  },
  {
   "cell_type": "code",
   "execution_count": 40,
   "metadata": {},
   "outputs": [
    {
     "name": "stdout",
     "output_type": "stream",
     "text": [
      "<class 'pandas.core.frame.DataFrame'>\n",
      "RangeIndex: 19970 entries, 0 to 19969\n",
      "Data columns (total 20 columns):\n",
      "mnt_ttc_echeance_std_20181231    18414 non-null float64\n",
      "mnt_ttc_echeance_std_20190131    19970 non-null float64\n",
      "mnt_ttc_echeance_std_20190228    19970 non-null float64\n",
      "mnt_ttc_echeance_std_20190331    19970 non-null float64\n",
      "mnt_ttc_echeance_std_20190430    19970 non-null float64\n",
      "mnt_ttc_echeance_std_20190531    19970 non-null float64\n",
      "mnt_ttc_echeance_std_20190630    19970 non-null float64\n",
      "mnt_ttc_echeance_std_20190731    19970 non-null float64\n",
      "mnt_ttc_echeance_std_20190831    19970 non-null float64\n",
      "mnt_ttc_echeance_std_20190930    19970 non-null float64\n",
      "solde_std_20181231               18414 non-null float64\n",
      "solde_std_20190131               19970 non-null float64\n",
      "solde_std_20190228               19970 non-null float64\n",
      "solde_std_20190331               19970 non-null float64\n",
      "solde_std_20190430               19970 non-null float64\n",
      "solde_std_20190531               19970 non-null float64\n",
      "solde_std_20190630               19970 non-null float64\n",
      "solde_std_20190731               19970 non-null float64\n",
      "solde_std_20190831               19970 non-null float64\n",
      "solde_std_20190930               19970 non-null float64\n",
      "dtypes: float64(20)\n",
      "memory usage: 3.0 MB\n"
     ]
    }
   ],
   "source": [
    "# Rappel: on la variable mois_connus = ['20180131', '20180228', '20180331', '20180430', '20180531', '20180630', '20180731', '20180831', '20180930', '20181031', '20181130', '20181231','20190131', '20190228', '20190331', '20190430', '20190531', '20190630', '20190731', '20190831', '20190930']\n",
    "# L'indexe du mois 20190131 dans la liste mois_connus est 12 et celui de fin est 20\n",
    "\n",
    "debut_index = 11\n",
    "# On rajoute 1 à l'indexe de fin pour l'inclure -> cf. listes en Python\n",
    "fin_index = 21\n",
    "\n",
    "echeances_cols = [\"mnt_ttc_echeance_std_\" + mois for mois in mois_connus[debut_index:fin_index]]\n",
    "soldes_cols = [\"solde_std_\" + mois for mois in mois_connus[debut_index:fin_index]]\n",
    "\n",
    "df = df[echeances_cols + soldes_cols]\n",
    "df.info()"
   ]
  },
  {
   "cell_type": "markdown",
   "metadata": {},
   "source": [
    "#### b) Filtrage des lignes"
   ]
  },
  {
   "cell_type": "markdown",
   "metadata": {},
   "source": [
    "Pour réaliser ce filtrage, il faut retirer toutes les lignes qui contiennent des NaN ou des 0 dans les colonnes des échéances, signifiant que le locataire n'était pas présent sur l'intégralité de la période étudiée."
   ]
  },
  {
   "cell_type": "code",
   "execution_count": 41,
   "metadata": {},
   "outputs": [
    {
     "name": "stdout",
     "output_type": "stream",
     "text": [
      "<class 'pandas.core.frame.DataFrame'>\n",
      "Int64Index: 17601 entries, 0 to 18405\n",
      "Data columns (total 20 columns):\n",
      "mnt_ttc_echeance_std_20181231    17601 non-null float64\n",
      "mnt_ttc_echeance_std_20190131    17601 non-null float64\n",
      "mnt_ttc_echeance_std_20190228    17601 non-null float64\n",
      "mnt_ttc_echeance_std_20190331    17601 non-null float64\n",
      "mnt_ttc_echeance_std_20190430    17601 non-null float64\n",
      "mnt_ttc_echeance_std_20190531    17601 non-null float64\n",
      "mnt_ttc_echeance_std_20190630    17601 non-null float64\n",
      "mnt_ttc_echeance_std_20190731    17601 non-null float64\n",
      "mnt_ttc_echeance_std_20190831    17601 non-null float64\n",
      "mnt_ttc_echeance_std_20190930    17601 non-null float64\n",
      "solde_std_20181231               17601 non-null float64\n",
      "solde_std_20190131               17601 non-null float64\n",
      "solde_std_20190228               17601 non-null float64\n",
      "solde_std_20190331               17601 non-null float64\n",
      "solde_std_20190430               17601 non-null float64\n",
      "solde_std_20190531               17601 non-null float64\n",
      "solde_std_20190630               17601 non-null float64\n",
      "solde_std_20190731               17601 non-null float64\n",
      "solde_std_20190831               17601 non-null float64\n",
      "solde_std_20190930               17601 non-null float64\n",
      "dtypes: float64(20)\n",
      "memory usage: 2.8 MB\n"
     ]
    }
   ],
   "source": [
    "df.dropna(subset = echeances_cols, inplace=True)\n",
    "df = df[(df[echeances_cols] != 0).all(1)]\n",
    "df.info()"
   ]
  },
  {
   "cell_type": "markdown",
   "metadata": {},
   "source": [
    "On a désormais un dataframe de 17 877 lignes."
   ]
  },
  {
   "cell_type": "markdown",
   "metadata": {},
   "source": [
    "## 2. Régression en utilisant seulement les variables de dettes/solde\n",
    "\n",
    "### 2.1. Sur le solde\n",
    "\n",
    "On commence par une régression sur le solde pour sélectionner le meilleur modèle.\n",
    "\n",
    "#### Modules nécessaires"
   ]
  },
  {
   "cell_type": "code",
   "execution_count": 42,
   "metadata": {},
   "outputs": [],
   "source": [
    "from sklearn.tree import DecisionTreeRegressor\n",
    "from sklearn.ensemble import RandomForestRegressor\n",
    "from sklearn import linear_model\n",
    "\n",
    "# -> Cross validation\n",
    "from sklearn.pipeline import Pipeline\n",
    "from sklearn.impute import SimpleImputer\n",
    "from sklearn.model_selection import cross_val_score\n",
    "# <-\n",
    "\n",
    "from sklearn.metrics import mean_absolute_error\n",
    "from sklearn.model_selection import train_test_split"
   ]
  },
  {
   "cell_type": "markdown",
   "metadata": {},
   "source": [
    "#### Input & output"
   ]
  },
  {
   "cell_type": "code",
   "execution_count": 43,
   "metadata": {},
   "outputs": [],
   "source": [
    "df_soldes = df[soldes_cols]\n",
    "\n",
    "X_soldes = df_soldes.drop(soldes_cols[-1], axis=1)\n",
    "Y_soldes = df_soldes.drop(soldes_cols[:-1], axis=1)"
   ]
  },
  {
   "cell_type": "markdown",
   "metadata": {},
   "source": [
    "#### Model Selection\n",
    "\n",
    "On va tester plusieurs modèles classiques afin de déterminer le meilleur choix possible.\n",
    "\n",
    "Pour cela, on réalisera une Cross-Validation à 5 folds dans chaque cas, en utilisant les Pipeline et la fonction cross_val_score() offerts par Sklearn.De plus, on utilisera comme estimateur l'erreur absolue moyenne (MAE).\n",
    "\n",
    "* **Régression linéaire**"
   ]
  },
  {
   "cell_type": "code",
   "execution_count": 44,
   "metadata": {},
   "outputs": [],
   "source": [
    "from sklearn import linear_model"
   ]
  },
  {
   "cell_type": "code",
   "execution_count": 45,
   "metadata": {},
   "outputs": [
    {
     "name": "stdout",
     "output_type": "stream",
     "text": [
      "('Mean Absolute Error pour chaque fold de la Cross-Validation:\\n', array([83.64486593, 68.27401429, 89.97227174, 86.89130156, 82.76175902]), '\\nMAE moyenne:', '82.3088425099683')\n"
     ]
    }
   ],
   "source": [
    "linear_reg_pipeline = Pipeline(steps=[('preprocessor', SimpleImputer()),\n",
    "                              ('model', linear_model.LinearRegression())\n",
    "                             ])\n",
    "\n",
    "# Multiply by -1 since sklearn calculates *negative* MAE\n",
    "scores = -1 * cross_val_score(linear_reg_pipeline, X_soldes, Y_soldes.values.ravel(),\n",
    "                              cv=5,\n",
    "                              scoring='neg_mean_absolute_error')\n",
    "err_reg_lin = str(scores.mean())\n",
    "\n",
    "print(\"Mean Absolute Error pour chaque fold de la Cross-Validation:\\n\", scores, \"\\nMAE moyenne:\", err_reg_lin)"
   ]
  },
  {
   "cell_type": "markdown",
   "metadata": {},
   "source": [
    "* **Ridge**"
   ]
  },
  {
   "cell_type": "code",
   "execution_count": 46,
   "metadata": {},
   "outputs": [
    {
     "data": {
      "text/plain": [
       "1000000.0"
      ]
     },
     "execution_count": 46,
     "metadata": {},
     "output_type": "execute_result"
    }
   ],
   "source": [
    "# RidgeCV implémente Ridge avec une Cross-validation built-in pour la valeur d'alpha\n",
    "reg = linear_model.RidgeCV(alphas = np.logspace(-6, 6, 13))\n",
    "reg.fit(X_soldes, Y_soldes)\n",
    "reg.alpha_"
   ]
  },
  {
   "cell_type": "code",
   "execution_count": 47,
   "metadata": {},
   "outputs": [
    {
     "name": "stdout",
     "output_type": "stream",
     "text": [
      "('MAE pour un test sans CV: ', 80.86580161660657)\n"
     ]
    }
   ],
   "source": [
    "train_X, val_X, train_y, val_y = train_test_split(X_soldes, Y_soldes, random_state = 2)\n",
    "reg.fit(train_X, train_y)\n",
    "pred = reg.predict(val_X)\n",
    "print(\"MAE pour un test sans CV: \", mean_absolute_error(val_y, pred))"
   ]
  },
  {
   "cell_type": "code",
   "execution_count": 48,
   "metadata": {},
   "outputs": [
    {
     "name": "stdout",
     "output_type": "stream",
     "text": [
      "('Mean Absolute Error pour chaque fold de la Cross-Validation:\\n', array([83.66201611, 68.27688406, 89.9588165 , 86.90225846, 82.77026422]), '\\nMAE moyenne:', '82.31404786707132')\n"
     ]
    }
   ],
   "source": [
    "ridge_pipeline = Pipeline(steps=[('preprocessor', SimpleImputer()),\n",
    "                              ('model', linear_model.Ridge(alpha=1000000))\n",
    "                             ])\n",
    "\n",
    "scores_ridge = -1 * cross_val_score(ridge_pipeline, X_soldes, Y_soldes.values.ravel(),\n",
    "                              cv=5,\n",
    "                              scoring='neg_mean_absolute_error')\n",
    "err_ridge = str(scores_ridge.mean())\n",
    "print(\"Mean Absolute Error pour chaque fold de la Cross-Validation:\\n\", scores_ridge, \"\\nMAE moyenne:\", err_ridge)\n"
   ]
  },
  {
   "cell_type": "markdown",
   "metadata": {},
   "source": [
    "Ridge a un impact extrêmement faible et performe très légèrement moins bien que la régression linéaire ordinaire."
   ]
  },
  {
   "cell_type": "markdown",
   "metadata": {},
   "source": [
    "* **Régression polynomiale**"
   ]
  },
  {
   "cell_type": "code",
   "execution_count": 49,
   "metadata": {},
   "outputs": [
    {
     "name": "stdout",
     "output_type": "stream",
     "text": [
      "('Degre ', 1, ' : Mean Absolute Error pour chaque fold de la Cross-Validation:\\n', array([83.64486593, 68.27401429, 89.97227174, 86.89130156, 82.76175902]), '\\nMAE moyenne:', '82.30884250996833')\n",
      "('Degre ', 2, ' : Mean Absolute Error pour chaque fold de la Cross-Validation:\\n', array([86.26572534, 71.51704265, 95.91112034, 89.65334228, 89.83392245]), '\\nMAE moyenne:', '86.63623061124719')\n",
      "('Degre ', 3, ' : Mean Absolute Error pour chaque fold de la Cross-Validation:\\n', array([127.0310992 ,  84.24208646, 151.01685694, 113.48411872,\n",
      "       113.36306191]), '\\nMAE moyenne:', '117.82744464654888')\n",
      "('Degre ', 4, ' : Mean Absolute Error pour chaque fold de la Cross-Validation:\\n', array([1261.04990663,  533.48583881, 1321.65841572, 2437.68090755,\n",
      "       1070.65080235]), '\\nMAE moyenne:', '1324.9051742138388')\n"
     ]
    }
   ],
   "source": [
    "from sklearn.preprocessing import PolynomialFeatures \n",
    "from sklearn.metrics import mean_squared_error, r2_score\n",
    "from sklearn import linear_model\n",
    "\n",
    "linear_reg_pipeline = Pipeline(steps=[('preprocessor', SimpleImputer()),\n",
    "                              ('model', linear_model.LinearRegression())\n",
    "                                      ])\n",
    "degre=list(range(1,5))\n",
    "                                     \n",
    "err_reg_poly=len(degre)*[0]\n",
    "## Le degré 1 correspond à une regression linéaire classique (polynome de degré 1)\n",
    "for i in degre:\n",
    "    polynomial_features= PolynomialFeatures(degree=i)\n",
    "    X_soldes_poly = polynomial_features.fit_transform(X_soldes)\n",
    "\n",
    "\n",
    "    # Multiply by -1 since sklearn calculates *negative* MAE\n",
    "    scores = -1 * cross_val_score(linear_reg_pipeline, X_soldes_poly, Y_soldes.values.ravel(),\n",
    "                                  cv=5,\n",
    "                                  scoring='neg_mean_absolute_error')\n",
    "    err_reg_poly[i-1] = str(scores.mean())\n",
    "\n",
    "    print(\"Degre \", i, \" : Mean Absolute Error pour chaque fold de la Cross-Validation:\\n\", scores, \"\\nMAE moyenne:\",err_reg_poly[i-1] )"
   ]
  },
  {
   "cell_type": "code",
   "execution_count": 50,
   "metadata": {},
   "outputs": [
    {
     "data": {
      "image/png": "[encoded data removed]",
      "text/plain": [
       "<Figure size 432x288 with 1 Axes>"
      ]
     },
     "metadata": {
      "needs_background": "light"
     },
     "output_type": "display_data"
    }
   ],
   "source": [
    "#Visualisation\n",
    "plt.plot(degre,err_reg_poly)\n",
    "plt.xlabel('Degre')\n",
    "plt.ylabel('MAE')\n",
    "plt.title('MAE pour la regression polynomiale en fonction du degre')\n",
    "plt.show()"
   ]
  },
  {
   "cell_type": "markdown",
   "metadata": {},
   "source": [
    "La regression polynomiale performe très faiblement. De plus, la MAE moyenne augmente exponentiellement avec le degré du polynôme. \n",
    "\n",
    "* **Random Forest**"
   ]
  },
  {
   "cell_type": "code",
   "execution_count": 51,
   "metadata": {},
   "outputs": [
    {
     "name": "stdout",
     "output_type": "stream",
     "text": [
      "('Mean Absolute Error pour chaque fold de la Cross-Validation:\\n', array([86.92025066, 76.84932606, 98.77709952, 88.64809494, 85.54516146]), '\\nMAE moyenne:', '87.34798652962387')\n"
     ]
    }
   ],
   "source": [
    "from sklearn.ensemble import RandomForestRegressor\n",
    "\n",
    "RF_pipeline = Pipeline(steps=[('preprocessor', SimpleImputer()),\n",
    "                              ('model', RandomForestRegressor(n_estimators=50,\n",
    "                                                              random_state=0))\n",
    "                             ])\n",
    "\n",
    "scores = -1 * cross_val_score(RF_pipeline, X_soldes, Y_soldes.values.ravel(),\n",
    "                              cv=5,\n",
    "                              scoring='neg_mean_absolute_error')\n",
    "err_random_f = str(scores.mean())\n",
    "\n",
    "print(\"Mean Absolute Error pour chaque fold de la Cross-Validation:\\n\", scores, \"\\nMAE moyenne:\",err_random_f )\n"
   ]
  },
  {
   "cell_type": "markdown",
   "metadata": {},
   "source": [
    "Avec une MAE de 87.348, Random forest ne semble pas être la méthode de régression la plus performante."
   ]
  },
  {
   "cell_type": "markdown",
   "metadata": {},
   "source": [
    "Bien que l'on ne s'attendait pas à un résultat nécessairement concluant, nous avons tout de même testé avec les SVM.\n",
    "* **SVM**"
   ]
  },
  {
   "cell_type": "code",
   "execution_count": 52,
   "metadata": {},
   "outputs": [
    {
     "name": "stdout",
     "output_type": "stream",
     "text": [
      "('Mean Absolute Error pour chaque fold de la Cross-Validation:\\n', array([173.42151538, 185.67298927, 192.16984105, 169.34218448,\n",
      "       167.40931335]), '\\nMAE moyenne:', '177.6031687034593')\n"
     ]
    }
   ],
   "source": [
    "from sklearn import svm\n",
    "\n",
    "SVR_pipeline = Pipeline(steps=[('preprocessor', SimpleImputer()),\n",
    "                              ('model', svm.SVR())\n",
    "                             ])\n",
    "\n",
    "# Multiply by -1 since sklearn calculates *negative* MAE\n",
    "scores_svr = -1 * cross_val_score(SVR_pipeline, X_soldes, Y_soldes.values.ravel(),\n",
    "                              cv=5,\n",
    "                              scoring='neg_mean_absolute_error')\n",
    "err_svm = str(scores_svr.mean())\n",
    "print(\"Mean Absolute Error pour chaque fold de la Cross-Validation:\\n\", scores_svr, \"\\nMAE moyenne:\",err_svm )\n"
   ]
  },
  {
   "cell_type": "markdown",
   "metadata": {},
   "source": [
    "* **Récapitulatif de la regression du le solde**\n",
    "\n",
    "Nous devons à présent sélectionner le ou les modèles présentant le moins d'erreurs pour pouvoir effectuer la régression sur la dette relative.\n",
    "Voici un récapitulatif des résultats trouvés précédemment :"
   ]
  },
  {
   "cell_type": "code",
   "execution_count": 53,
   "metadata": {},
   "outputs": [
    {
     "data": {
      "text/plain": [
       "['82.30884250996833',\n",
       " '86.63623061124719',\n",
       " '117.82744464654888',\n",
       " '1324.9051742138388']"
      ]
     },
     "execution_count": 53,
     "metadata": {},
     "output_type": "execute_result"
    }
   ],
   "source": [
    "err_reg_poly"
   ]
  },
  {
   "cell_type": "code",
   "execution_count": 54,
   "metadata": {},
   "outputs": [
    {
     "name": "stdout",
     "output_type": "stream",
     "text": [
      "('MAE regression ', 'Reg. lineaire', ' : ', '82.3088425099683', '\\n')\n",
      "('MAE regression ', 'Ridge', ' : ', '82.31404786707132', '\\n')\n",
      "('MAE regression polynomiale de degre ', 1, ' : ', '82.30884250996833', ' \\n')\n",
      "('MAE regression polynomiale de degre ', 2, ' : ', '86.63623061124719', ' \\n')\n",
      "('MAE regression polynomiale de degre ', 3, ' : ', '117.82744464654888', ' \\n')\n",
      "('MAE regression polynomiale de degre ', 4, ' : ', '1324.9051742138388', ' \\n')\n",
      "('MAE regression ', 'Random Forest', ' : ', '87.34798652962387', '\\n')\n",
      "('MAE regression ', 'SVM', ' : ', '177.6031687034593', '\\n')\n"
     ]
    }
   ],
   "source": [
    "err_reg = [err_reg_lin,err_ridge,err_reg_poly,err_random_f,err_svm]\n",
    "list_model = ['Reg. lineaire','Ridge','Reg. polynomiale','Random Forest','SVM']\n",
    "\n",
    "for i in range(0, 5):\n",
    "    if (i==2):\n",
    "        for j in range(0,4):\n",
    "            print('MAE regression polynomiale de degre ',j+1,' : ',err_reg_poly[j],' \\n')\n",
    "    else:\n",
    "        print('MAE regression ',list_model[i],\" : \",err_reg[i],'\\n')"
   ]
  },
  {
   "cell_type": "markdown",
   "metadata": {},
   "source": [
    "La régression linéaire est celle présentant le moins d'erreurs. La variation ridge est très proche mais n'apporte pas grand chose. On poursuit alors avec la régression linéaire."
   ]
  },
  {
   "cell_type": "markdown",
   "metadata": {},
   "source": [
    "### 2.2. Sur la dette relative"
   ]
  },
  {
   "cell_type": "markdown",
   "metadata": {},
   "source": [
    "On a vu précédemment que la régression linéaire avait les meilleures performances de régression sur le solde, avec un écart moyen de 77,78€. Cette section sera dédiée à la réalisation de prédictions sur la dette relative afin d'observer de manière plus interprétable les résultats de prédictions."
   ]
  },
  {
   "cell_type": "code",
   "execution_count": 55,
   "metadata": {},
   "outputs": [
    {
     "data": {
      "text/html": [
       "<div>\n",
       "<style scoped>\n",
       "    .dataframe tbody tr th:only-of-type {\n",
       "        vertical-align: middle;\n",
       "    }\n",
       "\n",
       "    .dataframe tbody tr th {\n",
       "        vertical-align: top;\n",
       "    }\n",
       "\n",
       "    .dataframe thead th {\n",
       "        text-align: right;\n",
       "    }\n",
       "</style>\n",
       "<table border=\"1\" class=\"dataframe\">\n",
       "  <thead>\n",
       "    <tr style=\"text-align: right;\">\n",
       "      <th></th>\n",
       "      <th>dette_relative_20181231</th>\n",
       "      <th>dette_relative_20190131</th>\n",
       "      <th>dette_relative_20190228</th>\n",
       "      <th>dette_relative_20190331</th>\n",
       "      <th>dette_relative_20190430</th>\n",
       "      <th>dette_relative_20190531</th>\n",
       "      <th>dette_relative_20190630</th>\n",
       "      <th>dette_relative_20190731</th>\n",
       "      <th>dette_relative_20190831</th>\n",
       "      <th>dette_relative_20190930</th>\n",
       "    </tr>\n",
       "  </thead>\n",
       "  <tbody>\n",
       "    <tr>\n",
       "      <th>0</th>\n",
       "      <td>-0.005257</td>\n",
       "      <td>-0.007347</td>\n",
       "      <td>0.001813</td>\n",
       "      <td>0.010974</td>\n",
       "      <td>0.020135</td>\n",
       "      <td>-0.008095</td>\n",
       "      <td>-0.036325</td>\n",
       "      <td>-0.064554</td>\n",
       "      <td>-0.209927</td>\n",
       "      <td>-0.238157</td>\n",
       "    </tr>\n",
       "    <tr>\n",
       "      <th>1</th>\n",
       "      <td>-1.682386</td>\n",
       "      <td>-0.495345</td>\n",
       "      <td>-0.495345</td>\n",
       "      <td>-0.248495</td>\n",
       "      <td>-0.246850</td>\n",
       "      <td>-0.246850</td>\n",
       "      <td>-0.246850</td>\n",
       "      <td>-0.493700</td>\n",
       "      <td>0.131352</td>\n",
       "      <td>0.257805</td>\n",
       "    </tr>\n",
       "    <tr>\n",
       "      <th>2</th>\n",
       "      <td>0.000000</td>\n",
       "      <td>0.988518</td>\n",
       "      <td>0.000028</td>\n",
       "      <td>0.563840</td>\n",
       "      <td>1.184825</td>\n",
       "      <td>0.845747</td>\n",
       "      <td>0.845747</td>\n",
       "      <td>0.000028</td>\n",
       "      <td>-0.081502</td>\n",
       "      <td>-0.081502</td>\n",
       "    </tr>\n",
       "    <tr>\n",
       "      <th>3</th>\n",
       "      <td>0.000000</td>\n",
       "      <td>0.000000</td>\n",
       "      <td>0.000000</td>\n",
       "      <td>0.000000</td>\n",
       "      <td>0.000000</td>\n",
       "      <td>0.000000</td>\n",
       "      <td>0.000000</td>\n",
       "      <td>0.000000</td>\n",
       "      <td>-0.249381</td>\n",
       "      <td>0.000000</td>\n",
       "    </tr>\n",
       "    <tr>\n",
       "      <th>4</th>\n",
       "      <td>2.800169</td>\n",
       "      <td>2.872106</td>\n",
       "      <td>2.907422</td>\n",
       "      <td>2.883483</td>\n",
       "      <td>2.807437</td>\n",
       "      <td>2.731392</td>\n",
       "      <td>2.655346</td>\n",
       "      <td>2.579300</td>\n",
       "      <td>2.427209</td>\n",
       "      <td>2.351163</td>\n",
       "    </tr>\n",
       "  </tbody>\n",
       "</table>\n",
       "</div>"
      ],
      "text/plain": [
       "   dette_relative_20181231  dette_relative_20190131  dette_relative_20190228  \\\n",
       "0                -0.005257                -0.007347                 0.001813   \n",
       "1                -1.682386                -0.495345                -0.495345   \n",
       "2                 0.000000                 0.988518                 0.000028   \n",
       "3                 0.000000                 0.000000                 0.000000   \n",
       "4                 2.800169                 2.872106                 2.907422   \n",
       "\n",
       "   dette_relative_20190331  dette_relative_20190430  dette_relative_20190531  \\\n",
       "0                 0.010974                 0.020135                -0.008095   \n",
       "1                -0.248495                -0.246850                -0.246850   \n",
       "2                 0.563840                 1.184825                 0.845747   \n",
       "3                 0.000000                 0.000000                 0.000000   \n",
       "4                 2.883483                 2.807437                 2.731392   \n",
       "\n",
       "   dette_relative_20190630  dette_relative_20190731  dette_relative_20190831  \\\n",
       "0                -0.036325                -0.064554                -0.209927   \n",
       "1                -0.246850                -0.493700                 0.131352   \n",
       "2                 0.845747                 0.000028                -0.081502   \n",
       "3                 0.000000                 0.000000                -0.249381   \n",
       "4                 2.655346                 2.579300                 2.427209   \n",
       "\n",
       "   dette_relative_20190930  \n",
       "0                -0.238157  \n",
       "1                 0.257805  \n",
       "2                -0.081502  \n",
       "3                 0.000000  \n",
       "4                 2.351163  "
      ]
     },
     "execution_count": 55,
     "metadata": {},
     "output_type": "execute_result"
    }
   ],
   "source": [
    "for mois in mois_connus[debut_index:fin_index]:\n",
    "    df['dette_relative_' + mois] = df['solde_std_'+ mois] / df['mnt_ttc_echeance_std_'+ mois]\n",
    "\n",
    "df_dettes = pd.DataFrame(data=df, columns=[col for col in df.columns if \"dette_relative\" in col])\n",
    "\n",
    "df_dettes.head()"
   ]
  },
  {
   "cell_type": "code",
   "execution_count": 56,
   "metadata": {},
   "outputs": [
    {
     "data": {
      "text/html": [
       "<div>\n",
       "<style scoped>\n",
       "    .dataframe tbody tr th:only-of-type {\n",
       "        vertical-align: middle;\n",
       "    }\n",
       "\n",
       "    .dataframe tbody tr th {\n",
       "        vertical-align: top;\n",
       "    }\n",
       "\n",
       "    .dataframe thead th {\n",
       "        text-align: right;\n",
       "    }\n",
       "</style>\n",
       "<table border=\"1\" class=\"dataframe\">\n",
       "  <thead>\n",
       "    <tr style=\"text-align: right;\">\n",
       "      <th></th>\n",
       "      <th>dette_relative_20190930</th>\n",
       "    </tr>\n",
       "  </thead>\n",
       "  <tbody>\n",
       "    <tr>\n",
       "      <th>0</th>\n",
       "      <td>-0.238157</td>\n",
       "    </tr>\n",
       "    <tr>\n",
       "      <th>1</th>\n",
       "      <td>0.257805</td>\n",
       "    </tr>\n",
       "    <tr>\n",
       "      <th>2</th>\n",
       "      <td>-0.081502</td>\n",
       "    </tr>\n",
       "    <tr>\n",
       "      <th>3</th>\n",
       "      <td>0.000000</td>\n",
       "    </tr>\n",
       "    <tr>\n",
       "      <th>4</th>\n",
       "      <td>2.351163</td>\n",
       "    </tr>\n",
       "  </tbody>\n",
       "</table>\n",
       "</div>"
      ],
      "text/plain": [
       "   dette_relative_20190930\n",
       "0                -0.238157\n",
       "1                 0.257805\n",
       "2                -0.081502\n",
       "3                 0.000000\n",
       "4                 2.351163"
      ]
     },
     "execution_count": 56,
     "metadata": {},
     "output_type": "execute_result"
    }
   ],
   "source": [
    "X_dettes = df_dettes.drop([col for col in df.columns if \"dette_relative\" in col][-1], axis=1)\n",
    "Y_dettes = df_dettes.drop([col for col in df.columns if \"dette_relative\" in col][:-1], axis=1)\n",
    "\n",
    "Y_dettes.head()"
   ]
  },
  {
   "cell_type": "code",
   "execution_count": 58,
   "metadata": {},
   "outputs": [
    {
     "name": "stdout",
     "output_type": "stream",
     "text": [
      "0.15675364647448425\n"
     ]
    }
   ],
   "source": [
    "from sklearn import linear_model\n",
    "from sklearn.model_selection import train_test_split\n",
    "\n",
    "\n",
    "train_X, val_X, train_y, val_y = train_test_split(X_dettes, Y_dettes['dette_relative_20190930'], random_state = 0)\n",
    "\n",
    "model_reg = linear_model.LinearRegression()\n",
    "\n",
    "model_reg.fit(train_X, train_y)\n",
    "\n",
    "predictions = model_reg.predict(val_X)\n",
    "print(mean_absolute_error(val_y, predictions))"
   ]
  },
  {
   "cell_type": "code",
   "execution_count": 60,
   "metadata": {},
   "outputs": [
    {
     "data": {
      "image/png": "[encoded data removed]",
      "text/plain": [
       "<Figure size 720x720 with 1 Axes>"
      ]
     },
     "metadata": {
      "needs_background": "light"
     },
     "output_type": "display_data"
    }
   ],
   "source": [
    "fig, ax = plt.subplots(figsize=(10,10))\n",
    "\n",
    "ax.plot(predictions[100:150], 'r', label=\"Predictions\")\n",
    "ax.plot(val_y[100:150].values, label=\"Valeurs justes\")\n",
    "ax.legend()\n",
    "plt.title('Linear regression model - 10 months of training')\n",
    "plt.savefig('Predictions_10mois.png')\n",
    "plt.show()"
   ]
  },
  {
   "cell_type": "code",
   "execution_count": 61,
   "metadata": {},
   "outputs": [
    {
     "data": {
      "image/png": "[encoded data removed]",
      "text/plain": [
       "<Figure size 1080x1440 with 1 Axes>"
      ]
     },
     "metadata": {
      "needs_background": "light"
     },
     "output_type": "display_data"
    }
   ],
   "source": [
    "fig, ax = plt.subplots(figsize=(15,20))\n",
    "\n",
    "ax.plot(predictions, 'r.', label=\"Predictions\")\n",
    "ax.plot(val_y.values, '+', label=\"Valeurs justes\")\n",
    "plt.title('Linear regression model - 10 months of training')\n",
    "plt.savefig('Predictions_nuage_10mois.png')\n",
    "ax.legend()\n",
    "plt.show()"
   ]
  },
  {
   "cell_type": "markdown",
   "metadata": {},
   "source": [
    "###  2.3. La dette a-t-elle augmenté ou diminué?\n",
    "\n",
    "Les graphiques ci-dessus semblent montrer que la régression n'a pas si mal fonctionné dans la plupart des cas, on peut maintenant s'intéresser à découvrir si elle prédit bien si la dette augmente ou diminue. \n",
    "\n",
    "Pour cela, on va comparer:\n",
    "* la dette du dernier mois versus la dette de l'avant-dernier\n",
    "* la **prédiction** de la dette du dernier mois versus la dette de l'avant-dernier\n",
    "---\n",
    "\n",
    "* Avant-dernier mois: 20190831\n",
    "* Dernier mois: 20190930\n",
    "\n",
    "Dans ces deux cas, on assignera **True** si la dette a **augmenté** ; **False** si elle a **diminué** ou stagné.\n",
    "\n",
    "Etant donné qu'il y a des valeurs négatives, nous devons ajuster la comparaison pour qu'elle prenne ceci en compte"
   ]
  },
  {
   "cell_type": "code",
   "execution_count": 62,
   "metadata": {},
   "outputs": [],
   "source": [
    "vraie_valeur_augmente = val_X['dette_relative_20190831'] > val_y\n",
    "prediction_augmente = val_X['dette_relative_20190831'] > predictions\n"
   ]
  },
  {
   "cell_type": "markdown",
   "metadata": {},
   "source": [
    "Maintenant que l'on sait pour les prédictions et les vraies valeurs si cela a augmenté ou pas, on peut les comparer à l'aide d'une matrice de confusion:"
   ]
  },
  {
   "cell_type": "code",
   "execution_count": 63,
   "metadata": {},
   "outputs": [
    {
     "data": {
      "text/plain": [
       "array([[ 120, 3385],\n",
       "       [  64,  832]], dtype=int64)"
      ]
     },
     "execution_count": 63,
     "metadata": {},
     "output_type": "execute_result"
    }
   ],
   "source": [
    "from sklearn.metrics import confusion_matrix\n",
    "\n",
    "conf_matrix_aug = confusion_matrix(vraie_valeur_augmente, prediction_augmente)\n",
    "conf_matrix_aug"
   ]
  },
  {
   "cell_type": "markdown",
   "metadata": {},
   "source": [
    "A l'aide de cette matrice de confusion, on peut regarder la proportion de prédictions qui ont su dire avec exactitude si la dette augmentait ou pas."
   ]
  },
  {
   "cell_type": "code",
   "execution_count": 64,
   "metadata": {},
   "outputs": [
    {
     "name": "stdout",
     "output_type": "stream",
     "text": [
      "('Pourcentage de pr\\xc3\\xa9dictions justes: ', 21.631447398318564, '%')\n"
     ]
    }
   ],
   "source": [
    "true_neg, false_pos, false_neg, true_pos = conf_matrix_aug.ravel()\n",
    "\n",
    "true_predictions = float(true_pos+true_neg) / float(val_y.count())\n",
    "\n",
    "print(\"Pourcentage de prédictions justes: \", true_predictions*100, \"%\")"
   ]
  },
  {
   "cell_type": "code",
   "execution_count": null,
   "metadata": {},
   "outputs": [],
   "source": []
  }
 ],
 "metadata": {
  "kernelspec": {
   "display_name": "Python 2",
   "language": "python",
   "name": "python2"
  },
  "language_info": {
   "codemirror_mode": {
    "name": "ipython",
    "version": 2
   },
   "file_extension": ".py",
   "mimetype": "text/x-python",
   "name": "python",
   "nbconvert_exporter": "python",
   "pygments_lexer": "ipython2",
   "version": "2.7.17"
  }
 },
 "nbformat": 4,
 "nbformat_minor": 4
}
