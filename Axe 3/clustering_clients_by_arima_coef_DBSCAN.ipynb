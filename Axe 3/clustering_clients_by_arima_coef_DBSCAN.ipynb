{
 "cells": [
  {
   "cell_type": "markdown",
   "metadata": {},
   "source": [
    "# Importation des packages"
   ]
  },
  {
   "cell_type": "code",
   "execution_count": null,
   "metadata": {
    "cell_id": "00001-55eb4a5a-2def-4530-a770-ffcccce76b8d",
    "deepnote_cell_type": "code",
    "execution_millis": 748,
    "execution_start": 1609102392128,
    "output_cleared": false,
    "source_hash": "c8fc2ead",
    "tags": []
   },
   "outputs": [],
   "source": [
    "import pandas as pd\n",
    "import numpy as np\n",
    "from sklearn import cluster\n",
    "from sklearn.preprocessing import StandardScaler\n",
    "from sklearn.metrics import silhouette_score\n",
    "import seaborn as sns\n",
    "import matplotlib.pyplot as plt"
   ]
  },
  {
   "cell_type": "markdown",
   "metadata": {},
   "source": [
    "# Importation du dataset"
   ]
  },
  {
   "cell_type": "markdown",
   "metadata": {},
   "source": [
    "Chaque ligne du dataset représente un client unique et ses coefficients ARIMA"
   ]
  },
  {
   "cell_type": "code",
   "execution_count": null,
   "metadata": {
    "cell_id": "00001-1a43187b-7c7a-455a-bba1-8eecb8d92227",
    "deepnote_cell_type": "code",
    "execution_millis": 0,
    "execution_start": 1609107577788,
    "output_cleared": false,
    "source_hash": "637e2c9a",
    "tags": []
   },
   "outputs": [],
   "source": [
    "arima_df = pd.read_csv('clients_clustered_by_arima_coef.csv')\n",
    "df = arima_df"
   ]
  },
  {
   "cell_type": "code",
   "execution_count": null,
   "metadata": {
    "cell_id": "00003-fb399e13-efef-4242-83b1-02aba1d40153",
    "deepnote_cell_type": "code",
    "execution_millis": 4,
    "execution_start": 1609107636187,
    "output_cleared": false,
    "source_hash": "37b01694",
    "tags": []
   },
   "outputs": [
    {
     "name": "stderr",
     "output_type": "stream",
     "text": [
      "/shared-libs/python3.7/py-core/lib/python3.7/site-packages/ipykernel_launcher.py:2: SettingWithCopyWarning: \n",
      "A value is trying to be set on a copy of a slice from a DataFrame\n",
      "\n",
      "See the caveats in the documentation: https://pandas.pydata.org/pandas-docs/stable/user_guide/indexing.html#returning-a-view-versus-a-copy\n",
      "  \n"
     ]
    }
   ],
   "source": [
    "df = df[['polynomial_ma_1','polynomial_ar_1']]\n",
    "df.dropna(axis=0,how='any',inplace=True)"
   ]
  },
  {
   "cell_type": "code",
   "execution_count": null,
   "metadata": {
    "cell_id": "00003-1152e705-c330-4cdd-b426-bb8f13877cbc",
    "deepnote_cell_type": "code",
    "execution_millis": 144,
    "execution_start": 1609102744444,
    "output_cleared": false,
    "source_hash": "eb617baf",
    "tags": []
   },
   "outputs": [
    {
     "data": {
      "image/png": "[encoded data removed]",
      "text/plain": [
       "<Figure size 432x288 with 1 Axes>"
      ]
     },
     "metadata": {
      "needs_background": "light"
     },
     "output_type": "display_data"
    }
   ],
   "source": [
    "plt.scatter(df['polynomial_ma_1'],df['polynomial_ar_1'])\n",
    "plt.show()"
   ]
  },
  {
   "cell_type": "code",
   "execution_count": null,
   "metadata": {
    "cell_id": "00004-5adbbf09-340c-4d92-9c1d-9fa17ca505b8",
    "deepnote_cell_type": "code",
    "execution_millis": 6,
    "execution_start": 1609102748410,
    "output_cleared": false,
    "source_hash": "17c0997d",
    "tags": []
   },
   "outputs": [],
   "source": [
    "def plotClusters(data, algorithm, args, kwds, showFigure = True):\n",
    "    model = algorithm(*args, **kwds).fit(data)\n",
    "    labels = model.labels_\n",
    "    try:\n",
    "        sil_score = silhouette_score(data,labels,metric='euclidean')\n",
    "    except:\n",
    "        sil_score = -2\n",
    "        pass\n",
    "    if showFigure:\n",
    "        palette = sns.color_palette('deep', np.unique(labels).max() + 1)\n",
    "        colors = []\n",
    "        colors_dict = {}\n",
    "        for x in labels:\n",
    "            if x >= 0:\n",
    "                color = palette[x]\n",
    "            else:\n",
    "                color = (0.0, 0.0, 0.0)\n",
    "            colors.append(color)\n",
    "            if x not in colors_dict:\n",
    "                colors_dict[x] = color\n",
    "        print(colors_dict)\n",
    "        plt.figure(figsize=(10,5))\n",
    "        plt.scatter(data['polynomial_ma_1'], data['polynomial_ar_1'], c=colors)\n",
    "        try:\n",
    "            plt.scatter(\n",
    "            x=model.cluster_centers_[:, 0],\n",
    "            y=model.cluster_centers_[:, 1],\n",
    "            marker='x',\n",
    "            c=\"blue\",\n",
    "            s=128\n",
    "        )\n",
    "        except:\n",
    "            pass\n",
    "        frame = plt.gca()\n",
    "        frame.axes.get_xaxis().set_visible(False)\n",
    "        frame.axes.get_yaxis().set_visible(False)\n",
    "        plt.title(f\"Clusters found by {str(algorithm.__name__)} - silhouette score: {sil_score}\")\n",
    "    return sil_score, model"
   ]
  },
  {
   "cell_type": "markdown",
   "metadata": {},
   "source": [
    "# DBSCAN"
   ]
  },
  {
   "cell_type": "code",
   "execution_count": null,
   "metadata": {
    "cell_id": "00005-e96325e2-7c66-428c-8b3f-12483f85d0f8",
    "deepnote_cell_type": "code",
    "execution_millis": 1550,
    "execution_start": 1609102749687,
    "output_cleared": false,
    "source_hash": "7a692d5f",
    "tags": []
   },
   "outputs": [
    {
     "name": "stdout",
     "output_type": "stream",
     "text": [
      "\u001b[33mWARNING: The directory '/home/jovyan/.cache/pip' or its parent directory is not owned or is not writable by the current user. The cache has been disabled. Check the permissions and owner of that directory. If executing pip with sudo, you may want sudo's -H flag.\u001b[0m\n",
      "Requirement already satisfied: hdbscan in /opt/venv/lib/python3.7/site-packages (0.8.26)\n",
      "Requirement already satisfied: numpy>=1.16.0 in /opt/venv/lib/python3.7/site-packages (from hdbscan) (1.19.4)\n",
      "Requirement already satisfied: joblib in /opt/venv/lib/python3.7/site-packages (from hdbscan) (0.17.0)\n",
      "Requirement already satisfied: scipy>=0.9 in /opt/venv/lib/python3.7/site-packages (from hdbscan) (1.5.4)\n",
      "Requirement already satisfied: scikit-learn>=0.17 in /opt/venv/lib/python3.7/site-packages (from hdbscan) (0.23.2)\n",
      "Requirement already satisfied: cython>=0.27 in /opt/venv/lib/python3.7/site-packages (from hdbscan) (0.29.21)\n",
      "Requirement already satisfied: six in /shared-libs/python3.7/py-core/lib/python3.7/site-packages (from hdbscan) (1.15.0)\n",
      "Requirement already satisfied: threadpoolctl>=2.0.0 in /opt/venv/lib/python3.7/site-packages (from scikit-learn>=0.17->hdbscan) (2.1.0)\n",
      "\u001b[33mWARNING: You are using pip version 20.2.4; however, version 20.3.3 is available.\n",
      "You should consider upgrading via the '/opt/venv/bin/python -m pip install --upgrade pip' command.\u001b[0m\n"
     ]
    }
   ],
   "source": [
    "!pip install hdbscan"
   ]
  },
  {
   "cell_type": "code",
   "execution_count": null,
   "metadata": {
    "cell_id": "00009-1fc6c54a-9abf-47a1-bd67-79059f8fc6f3",
    "deepnote_cell_type": "code",
    "execution_millis": 0,
    "execution_start": 1609105135856,
    "output_cleared": false,
    "source_hash": "8a740a89",
    "tags": []
   },
   "outputs": [],
   "source": [
    "from sklearn.neighbors import NearestNeighbors"
   ]
  },
  {
   "cell_type": "code",
   "execution_count": null,
   "metadata": {
    "cell_id": "00010-e050e894-7f17-41b3-9894-98beb16ff011",
    "deepnote_cell_type": "code",
    "execution_millis": 3,
    "execution_start": 1609105152468,
    "output_cleared": false,
    "source_hash": "266748b6",
    "tags": []
   },
   "outputs": [],
   "source": [
    "neigh = NearestNeighbors(n_neighbors=2)\n",
    "nbrs = neigh.fit(df)\n",
    "distances, indices = nbrs.kneighbors(df)"
   ]
  },
  {
   "cell_type": "code",
   "execution_count": null,
   "metadata": {
    "cell_id": "00011-3618fa08-4395-462c-8551-b029dec62972",
    "deepnote_cell_type": "code",
    "execution_millis": 90,
    "execution_start": 1609105165372,
    "output_cleared": false,
    "source_hash": "524df569",
    "tags": []
   },
   "outputs": [
    {
     "data": {
      "text/plain": [
       "[<matplotlib.lines.Line2D at 0x7f7f23975710>]"
      ]
     },
     "execution_count": 74,
     "metadata": {},
     "output_type": "execute_result"
    },
    {
     "data": {
      "image/png": "[encoded data removed]",
      "text/plain": [
       "<Figure size 432x288 with 1 Axes>"
      ]
     },
     "metadata": {
      "needs_background": "light"
     },
     "output_type": "display_data"
    }
   ],
   "source": [
    "distances = np.sort(distances, axis=0)\n",
    "distances = distances[:,1]\n",
    "plt.plot(distances)"
   ]
  },
  {
   "cell_type": "code",
   "execution_count": null,
   "metadata": {
    "cell_id": "00012-edb8be5e-a76e-46ad-b29b-c546d143d95b",
    "deepnote_cell_type": "code",
    "execution_millis": 62,
    "execution_start": 1609105347952,
    "output_cleared": false,
    "source_hash": "7cdee127",
    "tags": []
   },
   "outputs": [
    {
     "data": {
      "text/plain": [
       "[<matplotlib.lines.Line2D at 0x7f7f23b77fd0>]"
      ]
     },
     "execution_count": 76,
     "metadata": {},
     "output_type": "execute_result"
    },
    {
     "data": {
      "image/png": "[encoded data removed]",
      "text/plain": [
       "<Figure size 432x288 with 1 Axes>"
      ]
     },
     "metadata": {
      "needs_background": "light"
     },
     "output_type": "display_data"
    }
   ],
   "source": [
    "plt.plot(distances[distances<0.15])"
   ]
  },
  {
   "cell_type": "code",
   "execution_count": null,
   "metadata": {
    "cell_id": "00013-223a14e7-fc00-40c6-b292-c04cf43d4980",
    "deepnote_cell_type": "code",
    "execution_millis": 22020,
    "execution_start": 1609105416904,
    "output_cleared": false,
    "source_hash": "6bfcc7bd",
    "tags": []
   },
   "outputs": [],
   "source": [
    "min_samples_list = np.arange(1,15,1)\n",
    "eps_list = np.arange(0.01,0.15,0.01)\n",
    "sil_score_list = [[0 for j in min_samples_list] for i in eps_list]\n",
    "\n",
    "for i in range(len(eps_list)):\n",
    "    for j in range(len(min_samples_list)):\n",
    "        sil_score, labels = plotClusters(df, cluster.DBSCAN, (), {'eps':eps_list[i],'min_samples':min_samples_list[j]},showFigure=False)\n",
    "        sil_score_list[i][j] = sil_score"
   ]
  },
  {
   "cell_type": "code",
   "execution_count": null,
   "metadata": {
    "cell_id": "00014-3cd085cc-1d13-4a43-9420-6901b0c5a8a1",
    "deepnote_cell_type": "code",
    "execution_millis": 1,
    "execution_start": 1609105490884,
    "output_cleared": false,
    "source_hash": "8e241856",
    "tags": []
   },
   "outputs": [
    {
     "data": {
      "text/plain": [
       "array([[11,  1]])"
      ]
     },
     "execution_count": 78,
     "metadata": {},
     "output_type": "execute_result"
    }
   ],
   "source": [
    "np.argwhere(sil_score_list == max(max(sil_score_list)))"
   ]
  },
  {
   "cell_type": "code",
   "execution_count": null,
   "metadata": {
    "cell_id": "00015-e6b7c8e7-0625-4a15-a5a8-30d123e39641",
    "deepnote_cell_type": "code",
    "execution_millis": 1,
    "execution_start": 1609105522864,
    "output_cleared": false,
    "source_hash": "cd4147c1",
    "tags": []
   },
   "outputs": [
    {
     "data": {
      "text/plain": [
       "0.12"
      ]
     },
     "execution_count": 80,
     "metadata": {},
     "output_type": "execute_result"
    }
   ],
   "source": [
    "eps_list[11]"
   ]
  },
  {
   "cell_type": "code",
   "execution_count": null,
   "metadata": {
    "cell_id": "00016-45f5b074-8b91-493c-ac6a-603b4b3abaad",
    "deepnote_cell_type": "code",
    "execution_millis": 0,
    "execution_start": 1609105563876,
    "output_cleared": false,
    "source_hash": "a1213ffc",
    "tags": []
   },
   "outputs": [
    {
     "data": {
      "text/plain": [
       "2"
      ]
     },
     "execution_count": 83,
     "metadata": {},
     "output_type": "execute_result"
    }
   ],
   "source": [
    "min_samples_list[1]"
   ]
  },
  {
   "cell_type": "code",
   "execution_count": null,
   "metadata": {
    "cell_id": "00015-d14c37f5-23cc-4cc1-874c-a243fe4028b4",
    "deepnote_cell_type": "code",
    "execution_millis": 188,
    "execution_start": 1609105579054,
    "output_cleared": false,
    "source_hash": "7439518c",
    "tags": []
   },
   "outputs": [
    {
     "name": "stdout",
     "output_type": "stream",
     "text": [
      "{0: (0.2980392156862745, 0.4470588235294118, 0.6901960784313725), -1: (0.0, 0.0, 0.0), 1: (0.8666666666666667, 0.5176470588235295, 0.3215686274509804), 2: (0.3333333333333333, 0.6588235294117647, 0.40784313725490196), 3: (0.7686274509803922, 0.3058823529411765, 0.3215686274509804), 4: (0.5058823529411764, 0.4470588235294118, 0.7019607843137254), 5: (0.5764705882352941, 0.47058823529411764, 0.3764705882352941), 6: (0.8549019607843137, 0.5450980392156862, 0.7647058823529411), 7: (0.5490196078431373, 0.5490196078431373, 0.5490196078431373), 8: (0.8, 0.7254901960784313, 0.4549019607843137), 9: (0.39215686274509803, 0.7098039215686275, 0.803921568627451), 10: (0.2980392156862745, 0.4470588235294118, 0.6901960784313725), 11: (0.8666666666666667, 0.5176470588235295, 0.3215686274509804), 12: (0.3333333333333333, 0.6588235294117647, 0.40784313725490196), 13: (0.7686274509803922, 0.3058823529411765, 0.3215686274509804), 14: (0.5058823529411764, 0.4470588235294118, 0.7019607843137254), 15: (0.5764705882352941, 0.47058823529411764, 0.3764705882352941), 16: (0.8549019607843137, 0.5450980392156862, 0.7647058823529411), 17: (0.5490196078431373, 0.5490196078431373, 0.5490196078431373), 18: (0.8, 0.7254901960784313, 0.4549019607843137), 19: (0.39215686274509803, 0.7098039215686275, 0.803921568627451), 20: (0.2980392156862745, 0.4470588235294118, 0.6901960784313725), 21: (0.8666666666666667, 0.5176470588235295, 0.3215686274509804), 22: (0.3333333333333333, 0.6588235294117647, 0.40784313725490196), 23: (0.7686274509803922, 0.3058823529411765, 0.3215686274509804), 24: (0.5058823529411764, 0.4470588235294118, 0.7019607843137254), 25: (0.5764705882352941, 0.47058823529411764, 0.3764705882352941), 26: (0.8549019607843137, 0.5450980392156862, 0.7647058823529411), 27: (0.5490196078431373, 0.5490196078431373, 0.5490196078431373)}\n"
     ]
    },
    {
     "data": {
      "image/png": "[encoded data removed]",
      "text/plain": [
       "<Figure size 720x360 with 1 Axes>"
      ]
     },
     "metadata": {
      "needs_background": "light"
     },
     "output_type": "display_data"
    }
   ],
   "source": [
    "sil_score, model_DBSCAN = plotClusters(df, cluster.DBSCAN, (), {'eps':0.12,'min_samples':2})"
   ]
  },
  {
   "cell_type": "code",
   "execution_count": null,
   "metadata": {
    "cell_id": "00010-304500c2-140f-4515-a653-847e3e3e87a5",
    "deepnote_cell_type": "code",
    "execution_millis": 1,
    "execution_start": 1609107649226,
    "output_cleared": false,
    "source_hash": "aa40a913",
    "tags": []
   },
   "outputs": [],
   "source": [
    "labels = pd.Series(model_DBSCAN.labels_,index=df.index)"
   ]
  },
  {
   "cell_type": "code",
   "execution_count": null,
   "metadata": {
    "cell_id": "00019-a5b1b11c-256c-4843-ae19-bca63cbd8295",
    "deepnote_cell_type": "code",
    "execution_millis": 0,
    "execution_start": 1609107654180,
    "output_cleared": false,
    "source_hash": "d06cad84",
    "tags": []
   },
   "outputs": [],
   "source": [
    "arima_df['cluster_DBSCAN'] = labels"
   ]
  },
  {
   "cell_type": "code",
   "execution_count": null,
   "metadata": {
    "cell_id": "00021-9e58a4e5-2beb-4628-9411-536931374061",
    "deepnote_cell_type": "code",
    "execution_millis": 0,
    "execution_start": 1609107736844,
    "output_cleared": false,
    "source_hash": "1f025911",
    "tags": []
   },
   "outputs": [],
   "source": [
    "arima_df['cluster_DBSCAN'] = arima_df['cluster_DBSCAN'].fillna(len(labels.unique()))"
   ]
  },
  {
   "cell_type": "code",
   "execution_count": null,
   "metadata": {
    "cell_id": "00022-164ce4f1-8e21-4d23-845b-475f17bc70c9",
    "deepnote_cell_type": "code",
    "execution_millis": 5,
    "execution_start": 1609107790628,
    "output_cleared": false,
    "source_hash": "d09c2a9b",
    "tags": []
   },
   "outputs": [],
   "source": [
    "arima_df.to_csv('clients_clustered_by_arima_coef_DBSCAN.csv',index=False, encoding='utf-8')"
   ]
  }
 ],
 "metadata": {
  "deepnote_execution_queue": [],
  "deepnote_notebook_id": "63824976-8dc2-4041-b854-7db98503f1b6",
  "kernelspec": {
   "display_name": "Python 3",
   "language": "python",
   "name": "python3"
  },
  "language_info": {
   "codemirror_mode": {
    "name": "ipython",
    "version": 3
   },
   "file_extension": ".py",
   "mimetype": "text/x-python",
   "name": "python",
   "nbconvert_exporter": "python",
   "pygments_lexer": "ipython3",
   "version": "3.7.3"
  }
 },
 "nbformat": 4,
 "nbformat_minor": 2
}
