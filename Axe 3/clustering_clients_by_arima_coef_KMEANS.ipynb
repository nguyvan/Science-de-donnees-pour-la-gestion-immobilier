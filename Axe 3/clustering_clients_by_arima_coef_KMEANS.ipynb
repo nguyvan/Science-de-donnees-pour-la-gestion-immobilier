{
 "cells": [
  {
   "cell_type": "markdown",
   "metadata": {},
   "source": [
    "# Importation des packages"
   ]
  },
  {
   "cell_type": "code",
   "execution_count": null,
   "metadata": {
    "cell_id": "00000-0f6033a0-589d-4d6b-b228-ac17fc9cd69d",
    "deepnote_cell_type": "code",
    "execution_millis": 2650,
    "execution_start": 1609099350098,
    "output_cleared": false,
    "source_hash": "5800be77"
   },
   "outputs": [],
   "source": [
    "import numpy as np\n",
    "import seaborn as sns\n",
    "import matplotlib.pyplot as plt\n",
    "import pandas as pd\n",
    "from statsmodels.tsa.arima.model import ARIMA\n",
    "from collections import defaultdict\n",
    "\n",
    "from tslearn.clustering import TimeSeriesKMeans"
   ]
  },
  {
   "cell_type": "markdown",
   "metadata": {},
   "source": [
    "# Importation du dataset"
   ]
  },
  {
   "cell_type": "code",
   "execution_count": null,
   "metadata": {
    "cell_id": "00001-7241bc3e-fad1-4140-bbef-98e816cb6469",
    "deepnote_cell_type": "code",
    "execution_millis": 904,
    "execution_start": 1609099352752,
    "output_cleared": false,
    "source_hash": "8ea51a01"
   },
   "outputs": [],
   "source": [
    "tseries = pd.read_csv(\"clients_menages_tabular_transfo.csv\")\n",
    "#tseries.date = pd.to_datetime(tseries.date, format='%Y%m%d')"
   ]
  },
  {
   "cell_type": "code",
   "execution_count": null,
   "metadata": {
    "cell_id": "00003-e584807a-e551-46ea-bf56-8ace69fa43f9",
    "deepnote_cell_type": "code",
    "execution_millis": 10,
    "execution_start": 1609099355091,
    "output_cleared": false,
    "source_hash": "89392e2"
   },
   "outputs": [],
   "source": [
    "# Les dates enregistrées\n",
    "dates = ['2018-01-31', '2018-02-28',\n",
    " '2018-03-31', '2018-04-30',\n",
    " '2018-05-31', '2018-06-30',\n",
    " '2018-07-31', '2018-08-31',\n",
    " '2018-09-30', '2018-10-31',\n",
    " '2018-11-30', '2018-12-31',\n",
    " '2019-01-31', '2019-02-28',\n",
    " '2019-03-31', '2019-04-30',\n",
    " '2019-05-31', '2019-06-30',\n",
    " '2019-07-31', '2019-08-31',\n",
    " '2019-09-30']\n",
    "# Nous allons essayer de prédire les soldes. Les variables exogènes ne sont pas prises en compte pour le modèle ARIMA\n",
    "MA_df = tseries[[\"id_client\", \"date\", \"solde_std\"]]"
   ]
  },
  {
   "cell_type": "markdown",
   "metadata": {},
   "source": [
    "# Prétraitement des données"
   ]
  },
  {
   "cell_type": "code",
   "execution_count": null,
   "metadata": {
    "cell_id": "00004-28ae0142-38b5-4d78-9102-2033b433d12c",
    "deepnote_cell_type": "code",
    "execution_millis": 12,
    "execution_start": 1609099356932,
    "output_cleared": false,
    "source_hash": "c8179353"
   },
   "outputs": [
    {
     "data": {
      "text/plain": [
       "0.02018137244571822"
      ]
     },
     "execution_count": 6,
     "metadata": {},
     "output_type": "execute_result"
    }
   ],
   "source": [
    "# Vérifier le pourcentage des lignes vides\n",
    "len(MA_df[MA_df.isnull().any(axis=1)])/len(MA_df)"
   ]
  },
  {
   "cell_type": "code",
   "execution_count": null,
   "metadata": {
    "cell_id": "00005-0c499c12-2dd0-4159-ba53-0592ee695862",
    "deepnote_cell_type": "code",
    "execution_millis": 14,
    "execution_start": 1609099357688,
    "output_cleared": false,
    "source_hash": "70e1997e",
    "tags": []
   },
   "outputs": [],
   "source": [
    "MA_df.dropna(axis=0,how='any',inplace=True)"
   ]
  },
  {
   "cell_type": "code",
   "execution_count": null,
   "metadata": {
    "cell_id": "00005-3f2d98e7-126a-43a9-a8ee-f6f56df5a719",
    "deepnote_cell_type": "code",
    "execution_millis": 25460,
    "execution_start": 1609099360724,
    "output_cleared": false,
    "source_hash": "4a335de5",
    "tags": []
   },
   "outputs": [],
   "source": [
    "# Créer une dictionnaire pour stocker pour chaque client les observations lui concernant\n",
    "MA_df_per_client = {}\n",
    "for i in MA_df['id_client'].unique():\n",
    "    df_temp = pd.DataFrame()\n",
    "    df_temp['solde_std'] = MA_df[MA_df['id_client'] == i]['solde_std']\n",
    "    df_temp['date'] = MA_df[MA_df['id_client'] == i]['date']\n",
    "    \n",
    "    #df_temp['MA_2m'] = df_temp['solde_std'].rolling(window=2).mean()\n",
    "    #df_temp['MA_3m'] = df_temp['solde_std'].rolling(window=3).mean()\n",
    "    MA_df_per_client[str(i)] = df_temp"
   ]
  },
  {
   "cell_type": "code",
   "execution_count": null,
   "metadata": {
    "cell_id": "00008-5f47e1d8-1216-40d4-87d6-eb34750a1283",
    "deepnote_cell_type": "code",
    "execution_millis": 1,
    "execution_start": 1609099404852,
    "output_cleared": false,
    "source_hash": "c7533dd8",
    "tags": []
   },
   "outputs": [],
   "source": [
    "# Fonction permettant de récupérer les coefficients d'un modèle ARIMA\n",
    "from sklearn.model_selection import train_test_split\n",
    "def getCoef(data:pd.DataFrame,column:str,algorithm:type,kwds:dict,splitSize:float) -> dict:\n",
    "    size = int(len(data) * splitSize)\n",
    "    train, test = data.iloc[0:size][column].tolist(), data.iloc[size:len(data)][column].tolist()\n",
    "    history = [x for x in train]\n",
    "\n",
    "    model = algorithm(history, **kwds)\n",
    "    model_fit = model.fit() \n",
    "    coefDict = {}\n",
    "    coefDict['polynomial_ar'] = model_fit.polynomial_ar\n",
    "    coefDict['polynomial_ma'] = model_fit.polynomial_ma\n",
    "    coefDict['polynomial_seasonal_ar'] = model_fit.polynomial_seasonal_ar\n",
    "    coefDict['polynomial_seasonal_ma'] = model_fit.polynomial_seasonal_ma\n",
    "    coefDict['polynomial_trend'] = model_fit.polynomial_trend\n",
    "\n",
    "    return coefDict\n"
   ]
  },
  {
   "cell_type": "code",
   "execution_count": null,
   "metadata": {
    "cell_id": "00010-98bf0bc7-d89a-4b7a-984b-b8c4c1cf3ff8",
    "deepnote_cell_type": "code",
    "execution_millis": 1,
    "execution_start": 1609099407736,
    "output_cleared": false,
    "source_hash": "1433384f",
    "tags": []
   },
   "outputs": [],
   "source": [
    "import json\n",
    "with open('optimal_parameters_client.json') as json_file:\n",
    "    arimaParamDict = json.load(json_file)"
   ]
  },
  {
   "cell_type": "code",
   "execution_count": null,
   "metadata": {
    "cell_id": "00011-f7a4654b-bd41-4693-85bd-9aced4b4168e",
    "deepnote_cell_type": "code",
    "execution_millis": 164192,
    "execution_start": 1608717657524,
    "output_cleared": true,
    "source_hash": null,
    "tags": []
   },
   "outputs": [],
   "source": [
    "# Construire un dataframe dont chaque ligne représente un client unique et ses coefficients ARIMA\n",
    "arimaCoefDf = pd.DataFrame()\n",
    "for clientId,data in MA_df_per_client.items():\n",
    "    orderArima = arimaParamDict[clientId]\n",
    "    orderArima = orderArima.split(\" \")\n",
    "    orderArima = tuple([int(i) for i in orderArima])\n",
    "    coefDict = getCoef(data,'solde_std',ARIMA,{'order':orderArima},0.8) \n",
    "    df_temp = pd.DataFrame()\n",
    "    df_temp['id_client'] = pd.Series([int(clientId)])\n",
    "    for coef,values in coefDict.items():\n",
    "        list_values = values.tolist()\n",
    "        if len(list_values)>0:\n",
    "            for i in range(len(list_values)):\n",
    "                df_temp[coef+'_'+str(i)]=pd.Series(list_values[i])\n",
    "    # else:\n",
    "    #     row_to_append = [int(clientId)]\n",
    "    #     for coef,values in coefDict.items():\n",
    "    #         list_values = values.tolist()\n",
    "    #         if len(list_values)>0:\n",
    "    #             row_to_append += list_values\n",
    "    #     series_to_append = pd.Series(row_to_append, index = arimaCoefDf.columns)\n",
    "    #     arimaCoefDf = arimaCoefDf.append(series_to_append, ignore_index=True)\n",
    "    arimaCoefDf = pd.concat([arimaCoefDf,df_temp], axis=0, ignore_index=True)\n"
   ]
  },
  {
   "cell_type": "code",
   "execution_count": null,
   "metadata": {
    "cell_id": "00013-e7f4b12b-4c42-4d16-919b-4fbb2403ef7c",
    "deepnote_cell_type": "code",
    "execution_millis": 1,
    "execution_start": 1608717933034,
    "output_cleared": false,
    "source_hash": "707af32e",
    "tags": []
   },
   "outputs": [],
   "source": [
    "from sklearn import cluster\n",
    "from sklearn.preprocessing import StandardScaler\n",
    "from sklearn.metrics import silhouette_score\n",
    "import seaborn as sns"
   ]
  },
  {
   "cell_type": "code",
   "execution_count": null,
   "metadata": {
    "cell_id": "00013-1883da16-089d-4eb3-bc0b-f1f506c528e0",
    "deepnote_cell_type": "code",
    "execution_millis": 2,
    "execution_start": 1608717934057,
    "output_cleared": false,
    "source_hash": "62014c14",
    "tags": []
   },
   "outputs": [],
   "source": [
    "# df_standard = StandardScaler().fit_transform(arimaCoefDf[['polynomial_ma_1','polynomial_ar_1']])\n",
    "# df_series = pd.DataFrame(df_standard).fillna(0)"
   ]
  },
  {
   "cell_type": "code",
   "execution_count": null,
   "metadata": {
    "cell_id": "00015-fd054e58-2fac-450c-9dff-008f79b35bbb",
    "deepnote_cell_type": "code",
    "execution_millis": 3,
    "execution_start": 1608718647913,
    "output_cleared": false,
    "source_hash": "ec359d7e",
    "tags": []
   },
   "outputs": [],
   "source": [
    "df = arimaCoefDf[['polynomial_ma_1','polynomial_ar_1']]\n",
    "df.dropna(axis=0,how='any',inplace=True)\n",
    "# df = pd.DataFrame(df).fillna(0)"
   ]
  },
  {
   "cell_type": "code",
   "execution_count": null,
   "metadata": {
    "cell_id": "00014-6f2b7b81-2a41-409f-ad32-8a7e00cc901f",
    "deepnote_cell_type": "code",
    "execution_millis": 132,
    "execution_start": 1608718649715,
    "output_cleared": false,
    "source_hash": "eb617baf",
    "tags": []
   },
   "outputs": [
    {
     "data": {
      "image/png": "[encoded data removed]",
      "text/plain": [
       "<Figure size 432x288 with 1 Axes>"
      ]
     },
     "metadata": {
      "needs_background": "light"
     },
     "output_type": "display_data"
    }
   ],
   "source": [
    "plt.scatter(df['polynomial_ma_1'],df['polynomial_ar_1'])\n",
    "plt.show()"
   ]
  },
  {
   "cell_type": "code",
   "execution_count": null,
   "metadata": {
    "cell_id": "00020-eba34989-8eb1-45eb-ad24-5660e66914bd",
    "deepnote_cell_type": "code",
    "execution_millis": 1,
    "execution_start": 1608718154704,
    "output_cleared": false,
    "source_hash": "17c0997d",
    "tags": []
   },
   "outputs": [],
   "source": [
    "# Fonction pour la visualisation\n",
    "def plotClusters(data, algorithm, args, kwds, showFigure = True):\n",
    "    model = algorithm(*args, **kwds).fit(data)\n",
    "    labels = model.labels_\n",
    "    try:\n",
    "        sil_score = silhouette_score(data,labels,metric='euclidean')\n",
    "    except:\n",
    "        sil_score = -2\n",
    "        pass\n",
    "    if showFigure:\n",
    "        palette = sns.color_palette('deep', np.unique(labels).max() + 1)\n",
    "        colors = []\n",
    "        colors_dict = {}\n",
    "        for x in labels:\n",
    "            if x >= 0:\n",
    "                color = palette[x]\n",
    "            else:\n",
    "                color = (0.0, 0.0, 0.0)\n",
    "            colors.append(color)\n",
    "            if x not in colors_dict:\n",
    "                colors_dict[x] = color\n",
    "        print(colors_dict)\n",
    "        plt.figure(figsize=(10,5))\n",
    "        plt.scatter(data['polynomial_ma_1'], data['polynomial_ar_1'], c=colors)\n",
    "        try:\n",
    "            plt.scatter(\n",
    "            x=model.cluster_centers_[:, 0],\n",
    "            y=model.cluster_centers_[:, 1],\n",
    "            marker='x',\n",
    "            c=\"blue\",\n",
    "            s=128\n",
    "        )\n",
    "        except:\n",
    "            pass\n",
    "        frame = plt.gca()\n",
    "        frame.axes.get_xaxis().set_visible(False)\n",
    "        frame.axes.get_yaxis().set_visible(False)\n",
    "        plt.title(f\"Clusters found by {str(algorithm.__name__)} - silhouette score: {sil_score}\")\n",
    "    return sil_score, model"
   ]
  },
  {
   "cell_type": "markdown",
   "metadata": {},
   "source": [
    "# KMEANS"
   ]
  },
  {
   "cell_type": "code",
   "execution_count": null,
   "metadata": {
    "cell_id": "00021-099bac1f-223f-42b2-aeb8-7e769036f918",
    "deepnote_cell_type": "code",
    "execution_millis": 1429,
    "execution_start": 1608718156451,
    "output_cleared": false,
    "source_hash": "1dce0ded",
    "tags": []
   },
   "outputs": [],
   "source": [
    "max_clusters = 10\n",
    "inertias = np.zeros(max_clusters)\n",
    "for i in range(1, max_clusters):\n",
    "    _, model = plotClusters(df, cluster.KMeans, (), {'n_clusters':i},showFigure=False)\n",
    "    inertias[i] = model.inertia_"
   ]
  },
  {
   "cell_type": "code",
   "execution_count": null,
   "metadata": {
    "cell_id": "00022-09ddf9ae-7014-47ff-b17b-5f01d6d7a55a",
    "deepnote_cell_type": "code",
    "execution_millis": 134,
    "execution_start": 1608718158837,
    "output_cleared": false,
    "source_hash": "487e7251",
    "tags": []
   },
   "outputs": [
    {
     "data": {
      "text/plain": [
       "Text(0, 0.5, 'Inertie')"
      ]
     },
     "execution_count": 31,
     "metadata": {},
     "output_type": "execute_result"
    },
    {
     "data": {
      "image/png": "[encoded data removed]",
      "text/plain": [
       "<Figure size 432x288 with 1 Axes>"
      ]
     },
     "metadata": {
      "needs_background": "light"
     },
     "output_type": "display_data"
    }
   ],
   "source": [
    "plt.scatter(\n",
    "    x=list(range(1, max_clusters)),\n",
    "    y=inertias[1:]\n",
    ")\n",
    "plt.plot(list(range(1, max_clusters)),inertias[1:])\n",
    "plt.title(\"Elbow method - Trouver le k optimal\")\n",
    "plt.xlabel('Nombre de clusters')\n",
    "plt.ylabel('Inertie')"
   ]
  },
  {
   "cell_type": "code",
   "execution_count": null,
   "metadata": {
    "cell_id": "00023-d5b1d558-f4d1-4f47-8e87-15a2d0216757",
    "deepnote_cell_type": "code",
    "execution_millis": 211,
    "execution_start": 1608718255776,
    "output_cleared": false,
    "source_hash": "c8b15480",
    "tags": []
   },
   "outputs": [
    {
     "name": "stdout",
     "output_type": "stream",
     "text": [
      "{0: (0.2980392156862745, 0.4470588235294118, 0.6901960784313725), 1: (0.8666666666666667, 0.5176470588235295, 0.3215686274509804)}\n"
     ]
    },
    {
     "data": {
      "image/png": "[encoded data removed]",
      "text/plain": [
       "<Figure size 720x360 with 1 Axes>"
      ]
     },
     "metadata": {
      "needs_background": "light"
     },
     "output_type": "display_data"
    }
   ],
   "source": [
    "sil_score_Kmeans, model_Kmeans = plotClusters(df, cluster.KMeans, (), {'n_clusters':2})"
   ]
  },
  {
   "cell_type": "code",
   "execution_count": null,
   "metadata": {
    "cell_id": "00023-751b6bce-68ff-4bcc-8643-a5e3224fa9d4",
    "deepnote_cell_type": "code",
    "execution_millis": 1,
    "execution_start": 1608719371392,
    "output_cleared": false,
    "source_hash": "bcf9d6b",
    "tags": []
   },
   "outputs": [],
   "source": [
    "labels = pd.Series(model_Kmeans.labels_,index=df.index)"
   ]
  },
  {
   "cell_type": "code",
   "execution_count": null,
   "metadata": {
    "cell_id": "00024-2da4e695-1d6a-4caa-9e44-eebb220e5a77",
    "deepnote_cell_type": "code",
    "execution_millis": 1,
    "execution_start": 1608719193060,
    "output_cleared": false,
    "source_hash": "35f4c736",
    "tags": []
   },
   "outputs": [],
   "source": [
    "arimaCoefDf['cluster'] = labels"
   ]
  },
  {
   "cell_type": "code",
   "execution_count": null,
   "metadata": {
    "cell_id": "00026-b2b52799-c7b4-4b28-9b30-3da4b5d2fed5",
    "deepnote_cell_type": "code",
    "execution_millis": 1,
    "execution_start": 1608719474732,
    "output_cleared": false,
    "source_hash": "4e7b86b1",
    "tags": []
   },
   "outputs": [],
   "source": [
    "arimaCoefDf['cluster'] = arimaCoefDf['cluster'].fillna(len(labels.unique()))"
   ]
  },
  {
   "cell_type": "code",
   "execution_count": null,
   "metadata": {
    "cell_id": "00028-2055f520-6cf0-4fb2-acb0-9acec06ecfce",
    "deepnote_cell_type": "code",
    "execution_millis": 1,
    "execution_start": 1608720152660,
    "output_cleared": false,
    "source_hash": "530bc5e8",
    "tags": []
   },
   "outputs": [],
   "source": [
    "arimaCoefDf[['id_client','polynomial_ma_1','polynomial_ar_1','cluster']].to_csv('clients_clustered_by_arima_coef.csv',index=False, encoding='utf-8')"
   ]
  }
 ],
 "metadata": {
  "deepnote_execution_queue": [],
  "deepnote_notebook_id": "d2cd1990-5bbf-4493-94db-1fa040bf6520",
  "kernelspec": {
   "display_name": "Python 3",
   "language": "python",
   "name": "python3"
  },
  "language_info": {
   "codemirror_mode": {
    "name": "ipython",
    "version": 3
   },
   "file_extension": ".py",
   "mimetype": "text/x-python",
   "name": "python",
   "nbconvert_exporter": "python",
   "pygments_lexer": "ipython3",
   "version": "3.7.3"
  }
 },
 "nbformat": 4,
 "nbformat_minor": 4
}
