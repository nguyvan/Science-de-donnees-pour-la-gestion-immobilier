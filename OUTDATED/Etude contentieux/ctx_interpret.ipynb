{
 "cells": [
  {
   "cell_type": "code",
   "execution_count": 2,
   "metadata": {},
   "outputs": [],
   "source": [
    "import pandas as pd\n",
    "from sqlalchemy import create_engine\n",
    "import matplotlib.pyplot as plt\n",
    "import seaborn as sns\n",
    "import numpy as np\n",
    "from sklearn.feature_selection import VarianceThreshold\n",
    "from sklearn.tree import DecisionTreeClassifier\n",
    "from sklearn.model_selection import train_test_split\n",
    "from sklearn import metrics\n"
   ]
  },
  {
   "cell_type": "code",
   "execution_count": 3,
   "metadata": {},
   "outputs": [],
   "source": [
    "df = pd.read_sql(\"count_contentieux_par_compte\", index_col=0)\n",
    "df.dropna(axis=1, how='all', inplace=True)"
   ]
  },
  {
   "cell_type": "code",
   "execution_count": 4,
   "metadata": {},
   "outputs": [
    {
     "name": "stdout",
     "output_type": "stream",
     "text": [
      "(100000, 46)\n",
      "(100000, 46)\n"
     ]
    },
    {
     "data": {
      "text/plain": [
       "nb_ctx                           0.0\n",
       "nb_comptactifs_std               0.0\n",
       "nb_comptes_factures_std          0.0\n",
       "nb_comptes_recouvres_std         0.0\n",
       "nb_debiteurs_std                 0.0\n",
       "nb_crediteurs_std                0.0\n",
       "nb_a_zero_std                    0.0\n",
       "mnt_ttc_facture_ccl_std          0.0\n",
       "mnt_tva_facture_ccl_std          0.0\n",
       "mnt_ttc_echeance_std             0.0\n",
       "mnt_tva_echeance_std             0.0\n",
       "mnt_loyer_ccl_std                0.0\n",
       "mnt_charges_ccl_std              0.0\n",
       "mnt_caution_dg_ccl_std           0.0\n",
       "mnt_aides_ccl_std                0.0\n",
       "mnt_sls_ccl_std                  0.0\n",
       "mnt_solde_charges_ccl_std        0.0\n",
       "mnt_autres_ccl_std               0.0\n",
       "mnt_total_encaisse_std           0.0\n",
       "solde_std                        0.0\n",
       "solde_crediteur_std              0.0\n",
       "solde_debiteur_std               0.0\n",
       "dette_du_mois_std                0.0\n",
       "dette_moins_3mois_std            0.0\n",
       "dette_plus_3_a_6_mois_std        0.0\n",
       "dette_plus_6_a_12_mois_std       0.0\n",
       "dette_plus_12_mois_std           0.0\n",
       "nb_dette_sup_echeance_std        0.0\n",
       "nb_dette_inf_1_an_std            0.0\n",
       "nb_nouveaux_en_dette_std         0.0\n",
       "solde_derjr_hquitt_std           0.0\n",
       "temps_id                         0.0\n",
       "temps_mois_num                   0.0\n",
       "temps_mois_cpt                   0.0\n",
       "temps_trim_num                   0.0\n",
       "temps_trim_cpt                   0.0\n",
       "temps_annee_num                  0.0\n",
       "temps_annee_cpt                  0.0\n",
       "patrimoine_niveau_rang           0.0\n",
       "organisation_ctx_id              0.0\n",
       "compte_client_curval             0.0\n",
       "compte_client_ref_aff            0.0\n",
       "compte_client_ind_fin_gestion    0.0\n",
       "compte_client_mnt_nv_chg         0.0\n",
       "compte_client_mnt_nv_prd         0.0\n",
       "compte_client_ind_parti          0.0\n",
       "dtype: float64"
      ]
     },
     "execution_count": 4,
     "metadata": {},
     "output_type": "execute_result"
    }
   ],
   "source": [
    "from sklearn.impute import SimpleImputer\n",
    "imp = SimpleImputer(missing_values=np.nan, strategy=\"median\")\n",
    "df_numeric = df._get_numeric_data()\n",
    "print(df_numeric.shape)\n",
    "imp.fit(df_numeric)\n",
    "idf = pd.DataFrame(imp.transform(df_numeric))\n",
    "print(idf.shape)\n",
    "idf.columns=df_numeric.columns\n",
    "idf.index=df_numeric.index\n",
    "df.update(idf)\n",
    "df._get_numeric_data().isna().sum()/len(df._get_numeric_data())"
   ]
  },
  {
   "cell_type": "code",
   "execution_count": 5,
   "metadata": {},
   "outputs": [],
   "source": [
    "from sklearn.tree import DecisionTreeClassifier\n",
    "from sklearn.model_selection import train_test_split\n",
    "from sklearn import metrics"
   ]
  },
  {
   "cell_type": "code",
   "execution_count": 8,
   "metadata": {},
   "outputs": [],
   "source": [
    "df[\"existence_ctx\"] = (df.nb_ctx>0).astype('int64', copy=False)\n",
    "features = [c for c in df.columns if c not in {\"nb_ctx\", \"existence_ctx\"} and '_id' not in c]\n",
    "X = df[features]._get_numeric_data()\n",
    "\n",
    "\n",
    "y=df[\"existence_ctx\"]\n",
    "\n",
    "X_train, X_test, y_train, y_test = train_test_split(X, y, test_size=0.2, random_state=1)"
   ]
  },
  {
   "cell_type": "code",
   "execution_count": 9,
   "metadata": {},
   "outputs": [
    {
     "data": {
      "text/html": [
       "<!-- http://127.0.0.1:7887/139716721714904/ -->\n",
       "<iframe src=\"http://127.0.0.1:7887/139716721714904/\" width=100% height=800 frameBorder=\"0\"></iframe>"
      ]
     },
     "metadata": {},
     "output_type": "display_data"
    }
   ],
   "source": [
    "from interpret import show\n",
    "from interpret.data import ClassHistogram\n",
    "\n",
    "hist = ClassHistogram().explain_data(X_train, y_train, name = 'Train Data')\n",
    "show(hist)"
   ]
  },
  {
   "cell_type": "code",
   "execution_count": 12,
   "metadata": {},
   "outputs": [
    {
     "data": {
      "text/plain": [
       "<interpret.glassbox.decisiontree.ClassificationTree at 0x7f123f0c3e10>"
      ]
     },
     "execution_count": 12,
     "metadata": {},
     "output_type": "execute_result"
    }
   ],
   "source": [
    "from interpret.glassbox import LogisticRegression, ClassificationTree\n",
    "\n",
    "# We have to transform categorical variables to use Logistic Regression and Decision Tree\n",
    "X_enc = pd.get_dummies(X, prefix_sep='.')\n",
    "feature_names = list(X_enc.columns)\n",
    "X_train_enc, X_test_enc, y_train, y_test = train_test_split(X_enc, y, test_size=0.20, random_state=None)\n",
    "\n",
    "lr = LogisticRegression(random_state=None, feature_names=feature_names, penalty='l1', solver='liblinear')\n",
    "lr.fit(X_train_enc, y_train)\n",
    "\n",
    "tree = ClassificationTree()\n",
    "tree.fit(X_train_enc, y_train)"
   ]
  },
  {
   "cell_type": "code",
   "execution_count": 13,
   "metadata": {},
   "outputs": [
    {
     "data": {
      "text/html": [
       "<!-- http://127.0.0.1:7887/139716343904800/ -->\n",
       "<iframe src=\"http://127.0.0.1:7887/139716343904800/\" width=100% height=800 frameBorder=\"0\"></iframe>"
      ]
     },
     "metadata": {},
     "output_type": "display_data"
    },
    {
     "data": {
      "text/html": [
       "<!-- http://127.0.0.1:7887/139716343904240/ -->\n",
       "<iframe src=\"http://127.0.0.1:7887/139716343904240/\" width=100% height=800 frameBorder=\"0\"></iframe>"
      ]
     },
     "metadata": {},
     "output_type": "display_data"
    }
   ],
   "source": [
    "from interpret.perf import ROC\n",
    "\n",
    "lr_perf = ROC(lr.predict_proba).explain_perf(X_test_enc, y_test, name='Logistic Regression')\n",
    "tree_perf = ROC(tree.predict_proba).explain_perf(X_test_enc, y_test, name='Classification Tree')\n",
    "\n",
    "show(lr_perf)\n",
    "show(tree_perf)"
   ]
  },
  {
   "cell_type": "code",
   "execution_count": 14,
   "metadata": {},
   "outputs": [
    {
     "data": {
      "text/html": [
       "<!-- http://127.0.0.1:7887/139716314661104/ -->\n",
       "<iframe src=\"http://127.0.0.1:7887/139716314661104/\" width=100% height=800 frameBorder=\"0\"></iframe>"
      ]
     },
     "metadata": {},
     "output_type": "display_data"
    },
    {
     "data": {
      "text/html": [
       "<!-- http://127.0.0.1:7887/139716314662056/ -->\n",
       "<iframe src=\"http://127.0.0.1:7887/139716314662056/\" width=100% height=800 frameBorder=\"0\"></iframe>"
      ]
     },
     "metadata": {},
     "output_type": "display_data"
    }
   ],
   "source": [
    "lr_global = lr.explain_global(name='Logistic Regression')\n",
    "tree_global = tree.explain_global(name='Classification Tree')\n",
    "\n",
    "show(lr_global)\n",
    "show(tree_global)"
   ]
  },
  {
   "cell_type": "code",
   "execution_count": null,
   "metadata": {},
   "outputs": [],
   "source": []
  }
 ],
 "metadata": {
  "kernelspec": {
   "display_name": "Python 3",
   "language": "python",
   "name": "python3"
  },
  "language_info": {
   "codemirror_mode": {
    "name": "ipython",
    "version": 3
   },
   "file_extension": ".py",
   "mimetype": "text/x-python",
   "name": "python",
   "nbconvert_exporter": "python",
   "pygments_lexer": "ipython3",
   "version": "3.6.9"
  }
 },
 "nbformat": 4,
 "nbformat_minor": 4
}
