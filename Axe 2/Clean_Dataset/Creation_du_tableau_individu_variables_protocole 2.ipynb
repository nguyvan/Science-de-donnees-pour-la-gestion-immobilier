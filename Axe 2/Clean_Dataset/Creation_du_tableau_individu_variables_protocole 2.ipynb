{
 "cells": [
  {
   "cell_type": "markdown",
   "metadata": {},
   "source": [
    "# Création du tableau individu variables pour protocole 2"
   ]
  },
  {
   "cell_type": "code",
   "execution_count": 64,
   "metadata": {},
   "outputs": [],
   "source": [
    "import pandas as pd\n",
    "import numpy as np\n",
    "from bidict import frozenbidict"
   ]
  },
  {
   "cell_type": "code",
   "execution_count": 98,
   "metadata": {
    "scrolled": true
   },
   "outputs": [
    {
     "data": {
      "text/html": [
       "<div>\n",
       "<style scoped>\n",
       "    .dataframe tbody tr th:only-of-type {\n",
       "        vertical-align: middle;\n",
       "    }\n",
       "\n",
       "    .dataframe tbody tr th {\n",
       "        vertical-align: top;\n",
       "    }\n",
       "\n",
       "    .dataframe thead th {\n",
       "        text-align: right;\n",
       "    }\n",
       "</style>\n",
       "<table border=\"1\" class=\"dataframe\">\n",
       "  <thead>\n",
       "    <tr style=\"text-align: right;\">\n",
       "      <th></th>\n",
       "      <th>age_std_x</th>\n",
       "      <th>cnc_tem_al_20180228</th>\n",
       "      <th>cnc_tem_al_20180430</th>\n",
       "      <th>cnc_tem_al_20180630</th>\n",
       "      <th>cnc_tem_al_20180831</th>\n",
       "      <th>cnc_tem_al_20181031</th>\n",
       "      <th>cnc_tem_al_20181231</th>\n",
       "      <th>cnc_tem_al_20190228</th>\n",
       "      <th>cnc_tem_al_20190430</th>\n",
       "      <th>cnc_tem_al_20190630</th>\n",
       "      <th>...</th>\n",
       "      <th>solde_std_20190331</th>\n",
       "      <th>solde_std_20190430</th>\n",
       "      <th>solde_std_20190531</th>\n",
       "      <th>solde_std_20190630</th>\n",
       "      <th>solde_std_20190731</th>\n",
       "      <th>solde_std_20190831</th>\n",
       "      <th>solde_std_20190930</th>\n",
       "      <th>cnc_tem_apl</th>\n",
       "      <th>cnc_tem_sls</th>\n",
       "      <th>mnt_caution_dg_ccl_std</th>\n",
       "    </tr>\n",
       "  </thead>\n",
       "  <tbody>\n",
       "    <tr>\n",
       "      <th>count</th>\n",
       "      <td>19970.000000</td>\n",
       "      <td>6829.0</td>\n",
       "      <td>6855.0</td>\n",
       "      <td>6888.0</td>\n",
       "      <td>6894.0</td>\n",
       "      <td>6899.0</td>\n",
       "      <td>17726.0</td>\n",
       "      <td>8040.0</td>\n",
       "      <td>8015.0</td>\n",
       "      <td>8039.0</td>\n",
       "      <td>...</td>\n",
       "      <td>8008.000000</td>\n",
       "      <td>8015.000000</td>\n",
       "      <td>8031.000000</td>\n",
       "      <td>8039.000000</td>\n",
       "      <td>8040.000000</td>\n",
       "      <td>8040.000000</td>\n",
       "      <td>19577.000000</td>\n",
       "      <td>19970.000000</td>\n",
       "      <td>19970.000000</td>\n",
       "      <td>19970.000000</td>\n",
       "    </tr>\n",
       "    <tr>\n",
       "      <th>mean</th>\n",
       "      <td>49.571858</td>\n",
       "      <td>0.0</td>\n",
       "      <td>0.0</td>\n",
       "      <td>0.0</td>\n",
       "      <td>0.0</td>\n",
       "      <td>0.0</td>\n",
       "      <td>0.0</td>\n",
       "      <td>0.0</td>\n",
       "      <td>0.0</td>\n",
       "      <td>0.0</td>\n",
       "      <td>...</td>\n",
       "      <td>202.475850</td>\n",
       "      <td>193.429790</td>\n",
       "      <td>185.796230</td>\n",
       "      <td>173.870128</td>\n",
       "      <td>153.778762</td>\n",
       "      <td>183.167832</td>\n",
       "      <td>97.355993</td>\n",
       "      <td>0.489227</td>\n",
       "      <td>0.030425</td>\n",
       "      <td>8.865650</td>\n",
       "    </tr>\n",
       "    <tr>\n",
       "      <th>std</th>\n",
       "      <td>15.806576</td>\n",
       "      <td>0.0</td>\n",
       "      <td>0.0</td>\n",
       "      <td>0.0</td>\n",
       "      <td>0.0</td>\n",
       "      <td>0.0</td>\n",
       "      <td>0.0</td>\n",
       "      <td>0.0</td>\n",
       "      <td>0.0</td>\n",
       "      <td>0.0</td>\n",
       "      <td>...</td>\n",
       "      <td>880.170274</td>\n",
       "      <td>935.297258</td>\n",
       "      <td>967.517935</td>\n",
       "      <td>923.682147</td>\n",
       "      <td>926.788163</td>\n",
       "      <td>953.403434</td>\n",
       "      <td>729.394231</td>\n",
       "      <td>0.488569</td>\n",
       "      <td>0.159957</td>\n",
       "      <td>52.098992</td>\n",
       "    </tr>\n",
       "    <tr>\n",
       "      <th>min</th>\n",
       "      <td>0.000000</td>\n",
       "      <td>0.0</td>\n",
       "      <td>0.0</td>\n",
       "      <td>0.0</td>\n",
       "      <td>0.0</td>\n",
       "      <td>0.0</td>\n",
       "      <td>0.0</td>\n",
       "      <td>0.0</td>\n",
       "      <td>0.0</td>\n",
       "      <td>0.0</td>\n",
       "      <td>...</td>\n",
       "      <td>-3505.500000</td>\n",
       "      <td>-3978.840000</td>\n",
       "      <td>-6665.570000</td>\n",
       "      <td>-6661.050000</td>\n",
       "      <td>-6661.670000</td>\n",
       "      <td>-6662.290000</td>\n",
       "      <td>-6662.910000</td>\n",
       "      <td>0.000000</td>\n",
       "      <td>0.000000</td>\n",
       "      <td>-428.640000</td>\n",
       "    </tr>\n",
       "    <tr>\n",
       "      <th>25%</th>\n",
       "      <td>37.000000</td>\n",
       "      <td>0.0</td>\n",
       "      <td>0.0</td>\n",
       "      <td>0.0</td>\n",
       "      <td>0.0</td>\n",
       "      <td>0.0</td>\n",
       "      <td>0.0</td>\n",
       "      <td>0.0</td>\n",
       "      <td>0.0</td>\n",
       "      <td>0.0</td>\n",
       "      <td>...</td>\n",
       "      <td>0.000000</td>\n",
       "      <td>0.000000</td>\n",
       "      <td>0.000000</td>\n",
       "      <td>0.000000</td>\n",
       "      <td>0.000000</td>\n",
       "      <td>0.000000</td>\n",
       "      <td>0.000000</td>\n",
       "      <td>0.000000</td>\n",
       "      <td>0.000000</td>\n",
       "      <td>0.000000</td>\n",
       "    </tr>\n",
       "    <tr>\n",
       "      <th>50%</th>\n",
       "      <td>48.000000</td>\n",
       "      <td>0.0</td>\n",
       "      <td>0.0</td>\n",
       "      <td>0.0</td>\n",
       "      <td>0.0</td>\n",
       "      <td>0.0</td>\n",
       "      <td>0.0</td>\n",
       "      <td>0.0</td>\n",
       "      <td>0.0</td>\n",
       "      <td>0.0</td>\n",
       "      <td>...</td>\n",
       "      <td>0.000000</td>\n",
       "      <td>0.000000</td>\n",
       "      <td>0.000000</td>\n",
       "      <td>0.000000</td>\n",
       "      <td>0.000000</td>\n",
       "      <td>0.000000</td>\n",
       "      <td>0.000000</td>\n",
       "      <td>0.100000</td>\n",
       "      <td>0.000000</td>\n",
       "      <td>0.000000</td>\n",
       "    </tr>\n",
       "    <tr>\n",
       "      <th>75%</th>\n",
       "      <td>60.000000</td>\n",
       "      <td>0.0</td>\n",
       "      <td>0.0</td>\n",
       "      <td>0.0</td>\n",
       "      <td>0.0</td>\n",
       "      <td>0.0</td>\n",
       "      <td>0.0</td>\n",
       "      <td>0.0</td>\n",
       "      <td>0.0</td>\n",
       "      <td>0.0</td>\n",
       "      <td>...</td>\n",
       "      <td>0.000000</td>\n",
       "      <td>0.000000</td>\n",
       "      <td>0.000000</td>\n",
       "      <td>0.000000</td>\n",
       "      <td>0.000000</td>\n",
       "      <td>0.000000</td>\n",
       "      <td>0.000000</td>\n",
       "      <td>1.000000</td>\n",
       "      <td>0.000000</td>\n",
       "      <td>0.000000</td>\n",
       "    </tr>\n",
       "    <tr>\n",
       "      <th>max</th>\n",
       "      <td>128.000000</td>\n",
       "      <td>0.0</td>\n",
       "      <td>0.0</td>\n",
       "      <td>0.0</td>\n",
       "      <td>0.0</td>\n",
       "      <td>0.0</td>\n",
       "      <td>0.0</td>\n",
       "      <td>0.0</td>\n",
       "      <td>0.0</td>\n",
       "      <td>0.0</td>\n",
       "      <td>...</td>\n",
       "      <td>17725.830000</td>\n",
       "      <td>19042.230000</td>\n",
       "      <td>20567.550000</td>\n",
       "      <td>21164.180000</td>\n",
       "      <td>16065.250000</td>\n",
       "      <td>13019.250000</td>\n",
       "      <td>14764.660000</td>\n",
       "      <td>1.000000</td>\n",
       "      <td>1.000000</td>\n",
       "      <td>1053.840000</td>\n",
       "    </tr>\n",
       "  </tbody>\n",
       "</table>\n",
       "<p>8 rows × 197 columns</p>\n",
       "</div>"
      ],
      "text/plain": [
       "          age_std_x  cnc_tem_al_20180228  cnc_tem_al_20180430  \\\n",
       "count  19970.000000               6829.0               6855.0   \n",
       "mean      49.571858                  0.0                  0.0   \n",
       "std       15.806576                  0.0                  0.0   \n",
       "min        0.000000                  0.0                  0.0   \n",
       "25%       37.000000                  0.0                  0.0   \n",
       "50%       48.000000                  0.0                  0.0   \n",
       "75%       60.000000                  0.0                  0.0   \n",
       "max      128.000000                  0.0                  0.0   \n",
       "\n",
       "       cnc_tem_al_20180630  cnc_tem_al_20180831  cnc_tem_al_20181031  \\\n",
       "count               6888.0               6894.0               6899.0   \n",
       "mean                   0.0                  0.0                  0.0   \n",
       "std                    0.0                  0.0                  0.0   \n",
       "min                    0.0                  0.0                  0.0   \n",
       "25%                    0.0                  0.0                  0.0   \n",
       "50%                    0.0                  0.0                  0.0   \n",
       "75%                    0.0                  0.0                  0.0   \n",
       "max                    0.0                  0.0                  0.0   \n",
       "\n",
       "       cnc_tem_al_20181231  cnc_tem_al_20190228  cnc_tem_al_20190430  \\\n",
       "count              17726.0               8040.0               8015.0   \n",
       "mean                   0.0                  0.0                  0.0   \n",
       "std                    0.0                  0.0                  0.0   \n",
       "min                    0.0                  0.0                  0.0   \n",
       "25%                    0.0                  0.0                  0.0   \n",
       "50%                    0.0                  0.0                  0.0   \n",
       "75%                    0.0                  0.0                  0.0   \n",
       "max                    0.0                  0.0                  0.0   \n",
       "\n",
       "       cnc_tem_al_20190630  ...  solde_std_20190331  solde_std_20190430  \\\n",
       "count               8039.0  ...         8008.000000         8015.000000   \n",
       "mean                   0.0  ...          202.475850          193.429790   \n",
       "std                    0.0  ...          880.170274          935.297258   \n",
       "min                    0.0  ...        -3505.500000        -3978.840000   \n",
       "25%                    0.0  ...            0.000000            0.000000   \n",
       "50%                    0.0  ...            0.000000            0.000000   \n",
       "75%                    0.0  ...            0.000000            0.000000   \n",
       "max                    0.0  ...        17725.830000        19042.230000   \n",
       "\n",
       "       solde_std_20190531  solde_std_20190630  solde_std_20190731  \\\n",
       "count         8031.000000         8039.000000         8040.000000   \n",
       "mean           185.796230          173.870128          153.778762   \n",
       "std            967.517935          923.682147          926.788163   \n",
       "min          -6665.570000        -6661.050000        -6661.670000   \n",
       "25%              0.000000            0.000000            0.000000   \n",
       "50%              0.000000            0.000000            0.000000   \n",
       "75%              0.000000            0.000000            0.000000   \n",
       "max          20567.550000        21164.180000        16065.250000   \n",
       "\n",
       "       solde_std_20190831  solde_std_20190930   cnc_tem_apl   cnc_tem_sls  \\\n",
       "count         8040.000000        19577.000000  19970.000000  19970.000000   \n",
       "mean           183.167832           97.355993      0.489227      0.030425   \n",
       "std            953.403434          729.394231      0.488569      0.159957   \n",
       "min          -6662.290000        -6662.910000      0.000000      0.000000   \n",
       "25%              0.000000            0.000000      0.000000      0.000000   \n",
       "50%              0.000000            0.000000      0.100000      0.000000   \n",
       "75%              0.000000            0.000000      1.000000      0.000000   \n",
       "max          13019.250000        14764.660000      1.000000      1.000000   \n",
       "\n",
       "       mnt_caution_dg_ccl_std  \n",
       "count            19970.000000  \n",
       "mean                 8.865650  \n",
       "std                 52.098992  \n",
       "min               -428.640000  \n",
       "25%                  0.000000  \n",
       "50%                  0.000000  \n",
       "75%                  0.000000  \n",
       "max               1053.840000  \n",
       "\n",
       "[8 rows x 197 columns]"
      ]
     },
     "execution_count": 98,
     "metadata": {},
     "output_type": "execute_result"
    }
   ],
   "source": [
    "\n",
    "df = pd.read_csv(\"Clean_Dataset_output_clients_menages_tabular.csv\")\n",
    "\n",
    "#df = pd.read_csv(\"Clean_Dataset_output_clients_menages_tabular_v2.csv\",  na_values='-1')\n",
    "df.describe()"
   ]
  },
  {
   "cell_type": "markdown",
   "metadata": {},
   "source": [
    "### Remove columns with to many NaNs"
   ]
  },
  {
   "cell_type": "markdown",
   "metadata": {},
   "source": [
    "suppression des colonnes avec NaN dans les soldes"
   ]
  },
  {
   "cell_type": "code",
   "execution_count": 99,
   "metadata": {},
   "outputs": [
    {
     "data": {
      "text/plain": [
       "8225"
      ]
     },
     "execution_count": 99,
     "metadata": {},
     "output_type": "execute_result"
    }
   ],
   "source": [
    "solde_cols = lambda df: [c for c in df.columns if 'solde_std' in c]\n",
    "df.dropna(\n",
    "    axis=0,\n",
    "    thresh=5,\n",
    "    subset=solde_cols(df),\n",
    "    inplace=True\n",
    ")\n",
    "len(df)"
   ]
  },
  {
   "cell_type": "code",
   "execution_count": 100,
   "metadata": {},
   "outputs": [
    {
     "data": {
      "text/plain": [
       "0"
      ]
     },
     "execution_count": 100,
     "metadata": {},
     "output_type": "execute_result"
    }
   ],
   "source": [
    "df['nan_solde_count'] = df[[c for c in df.columns if 'solde_std' in c]].isna().sum(axis=1)\n",
    "len(df[df['nan_solde_count']>=19])"
   ]
  },
  {
   "cell_type": "code",
   "execution_count": 101,
   "metadata": {},
   "outputs": [],
   "source": [
    "import missingno as msno"
   ]
  },
  {
   "cell_type": "code",
   "execution_count": 102,
   "metadata": {},
   "outputs": [
    {
     "data": {
      "text/plain": [
       "<AxesSubplot:>"
      ]
     },
     "execution_count": 102,
     "metadata": {},
     "output_type": "execute_result"
    },
    {
     "data": {
      "image/png": "[encoded data removed]",
      "text/plain": [
       "<Figure size 1800x720 with 2 Axes>"
      ]
     },
     "metadata": {
      "needs_background": "light"
     },
     "output_type": "display_data"
    }
   ],
   "source": [
    "na_sum = df.isna().sum()\n",
    "msno.matrix(df[na_sum[(na_sum>1000)].index])"
   ]
  },
  {
   "cell_type": "code",
   "execution_count": 103,
   "metadata": {},
   "outputs": [],
   "source": [
    "import seaborn as sb\n",
    "import matplotlib.pyplot as plt"
   ]
  },
  {
   "cell_type": "code",
   "execution_count": 104,
   "metadata": {},
   "outputs": [],
   "source": [
    "sum_nan = df.isna().sum()\n",
    "max_sum = max(sum_nan.values)\n",
    "col_with_data = [c for c in df.columns if sum_nan[c]/len(df) < .93]\n",
    "df = df[col_with_data]"
   ]
  },
  {
   "cell_type": "markdown",
   "metadata": {},
   "source": [
    "### attention pour certaines colonnes les -1 ne sont pas des NaNs\n",
    "uniquement dans le dataset de Min"
   ]
  },
  {
   "cell_type": "code",
   "execution_count": 105,
   "metadata": {},
   "outputs": [],
   "source": [
    "#df[solde_cols(df)] = df[solde_cols(df)].fillna(-1)"
   ]
  },
  {
   "cell_type": "markdown",
   "metadata": {},
   "source": [
    "On peut donc étudier environ 8226 individus.\n",
    "### On ajoute un id pour l'individu qui va permettre de faire des jointure plus tard"
   ]
  },
  {
   "cell_type": "code",
   "execution_count": 106,
   "metadata": {},
   "outputs": [
    {
     "data": {
      "text/html": [
       "<div>\n",
       "<style scoped>\n",
       "    .dataframe tbody tr th:only-of-type {\n",
       "        vertical-align: middle;\n",
       "    }\n",
       "\n",
       "    .dataframe tbody tr th {\n",
       "        vertical-align: top;\n",
       "    }\n",
       "\n",
       "    .dataframe thead th {\n",
       "        text-align: right;\n",
       "    }\n",
       "</style>\n",
       "<table border=\"1\" class=\"dataframe\">\n",
       "  <thead>\n",
       "    <tr style=\"text-align: right;\">\n",
       "      <th></th>\n",
       "      <th>age_std_x</th>\n",
       "      <th>cnc_dteff</th>\n",
       "      <th>cnc_tem_al_20180228</th>\n",
       "      <th>cnc_tem_al_20180430</th>\n",
       "      <th>cnc_tem_al_20180630</th>\n",
       "      <th>cnc_tem_al_20180831</th>\n",
       "      <th>cnc_tem_al_20181031</th>\n",
       "      <th>cnc_tem_al_20181231</th>\n",
       "      <th>cnc_tem_al_20190228</th>\n",
       "      <th>cnc_tem_al_20190430</th>\n",
       "      <th>...</th>\n",
       "      <th>type_revenu_lib_20181231</th>\n",
       "      <th>type_revenu_lib_20190930</th>\n",
       "      <th>type_trf_lib</th>\n",
       "      <th>cnc_tem_apl</th>\n",
       "      <th>cnc_tem_sls</th>\n",
       "      <th>mnt_caution_dg_ccl_std</th>\n",
       "      <th>cnc_dtdval</th>\n",
       "      <th>cnc_dtfval</th>\n",
       "      <th>nan_solde_count</th>\n",
       "      <th>individu_id</th>\n",
       "    </tr>\n",
       "  </thead>\n",
       "  <tbody>\n",
       "    <tr>\n",
       "      <th>0</th>\n",
       "      <td>50.0</td>\n",
       "      <td>2011-04-01</td>\n",
       "      <td>0.0</td>\n",
       "      <td>0.0</td>\n",
       "      <td>0.0</td>\n",
       "      <td>0.0</td>\n",
       "      <td>0.0</td>\n",
       "      <td>0.0</td>\n",
       "      <td>0.0</td>\n",
       "      <td>0.0</td>\n",
       "      <td>...</td>\n",
       "      <td>All. Chomage_IndemnitÃ©s</td>\n",
       "      <td>All. Chomage_IndemnitÃ©s</td>\n",
       "      <td>Relocation</td>\n",
       "      <td>0.0</td>\n",
       "      <td>0.000000</td>\n",
       "      <td>0.0</td>\n",
       "      <td>2018-01-31</td>\n",
       "      <td>2100-01-01</td>\n",
       "      <td>0</td>\n",
       "      <td>0</td>\n",
       "    </tr>\n",
       "    <tr>\n",
       "      <th>1</th>\n",
       "      <td>31.0</td>\n",
       "      <td>2015-01-27</td>\n",
       "      <td>0.0</td>\n",
       "      <td>0.0</td>\n",
       "      <td>0.0</td>\n",
       "      <td>0.0</td>\n",
       "      <td>0.0</td>\n",
       "      <td>0.0</td>\n",
       "      <td>0.0</td>\n",
       "      <td>0.0</td>\n",
       "      <td>...</td>\n",
       "      <td>Non RenseignÃ©</td>\n",
       "      <td>Non RenseignÃ©</td>\n",
       "      <td>Relocation</td>\n",
       "      <td>0.0</td>\n",
       "      <td>0.000000</td>\n",
       "      <td>0.0</td>\n",
       "      <td>2018-01-31</td>\n",
       "      <td>2100-01-01</td>\n",
       "      <td>0</td>\n",
       "      <td>1</td>\n",
       "    </tr>\n",
       "    <tr>\n",
       "      <th>2</th>\n",
       "      <td>75.0</td>\n",
       "      <td>1991-09-01</td>\n",
       "      <td>0.0</td>\n",
       "      <td>0.0</td>\n",
       "      <td>0.0</td>\n",
       "      <td>0.0</td>\n",
       "      <td>0.0</td>\n",
       "      <td>0.0</td>\n",
       "      <td>0.0</td>\n",
       "      <td>0.0</td>\n",
       "      <td>...</td>\n",
       "      <td>Non RenseignÃ©</td>\n",
       "      <td>Non RenseignÃ©</td>\n",
       "      <td>Relocation</td>\n",
       "      <td>0.0</td>\n",
       "      <td>0.000000</td>\n",
       "      <td>0.0</td>\n",
       "      <td>2018-01-31</td>\n",
       "      <td>2100-01-01</td>\n",
       "      <td>0</td>\n",
       "      <td>2</td>\n",
       "    </tr>\n",
       "    <tr>\n",
       "      <th>3</th>\n",
       "      <td>59.0</td>\n",
       "      <td>1986-03-01</td>\n",
       "      <td>0.0</td>\n",
       "      <td>0.0</td>\n",
       "      <td>0.0</td>\n",
       "      <td>0.0</td>\n",
       "      <td>0.0</td>\n",
       "      <td>0.0</td>\n",
       "      <td>0.0</td>\n",
       "      <td>0.0</td>\n",
       "      <td>...</td>\n",
       "      <td>Autre (hors APL ou AL)</td>\n",
       "      <td>Autre (hors APL ou AL)</td>\n",
       "      <td>Relocation</td>\n",
       "      <td>0.0</td>\n",
       "      <td>0.571429</td>\n",
       "      <td>0.0</td>\n",
       "      <td>2018-01-31</td>\n",
       "      <td>2100-01-01</td>\n",
       "      <td>0</td>\n",
       "      <td>3</td>\n",
       "    </tr>\n",
       "    <tr>\n",
       "      <th>4</th>\n",
       "      <td>61.0</td>\n",
       "      <td>1989-09-15</td>\n",
       "      <td>0.0</td>\n",
       "      <td>0.0</td>\n",
       "      <td>0.0</td>\n",
       "      <td>0.0</td>\n",
       "      <td>0.0</td>\n",
       "      <td>0.0</td>\n",
       "      <td>0.0</td>\n",
       "      <td>0.0</td>\n",
       "      <td>...</td>\n",
       "      <td>Non RenseignÃ©</td>\n",
       "      <td>Non RenseignÃ©</td>\n",
       "      <td>Relocation</td>\n",
       "      <td>0.0</td>\n",
       "      <td>0.000000</td>\n",
       "      <td>0.0</td>\n",
       "      <td>2018-01-31</td>\n",
       "      <td>2100-01-01</td>\n",
       "      <td>0</td>\n",
       "      <td>4</td>\n",
       "    </tr>\n",
       "  </tbody>\n",
       "</table>\n",
       "<p>5 rows × 215 columns</p>\n",
       "</div>"
      ],
      "text/plain": [
       "   age_std_x   cnc_dteff  cnc_tem_al_20180228  cnc_tem_al_20180430  \\\n",
       "0       50.0  2011-04-01                  0.0                  0.0   \n",
       "1       31.0  2015-01-27                  0.0                  0.0   \n",
       "2       75.0  1991-09-01                  0.0                  0.0   \n",
       "3       59.0  1986-03-01                  0.0                  0.0   \n",
       "4       61.0  1989-09-15                  0.0                  0.0   \n",
       "\n",
       "   cnc_tem_al_20180630  cnc_tem_al_20180831  cnc_tem_al_20181031  \\\n",
       "0                  0.0                  0.0                  0.0   \n",
       "1                  0.0                  0.0                  0.0   \n",
       "2                  0.0                  0.0                  0.0   \n",
       "3                  0.0                  0.0                  0.0   \n",
       "4                  0.0                  0.0                  0.0   \n",
       "\n",
       "   cnc_tem_al_20181231  cnc_tem_al_20190228  cnc_tem_al_20190430  ...  \\\n",
       "0                  0.0                  0.0                  0.0  ...   \n",
       "1                  0.0                  0.0                  0.0  ...   \n",
       "2                  0.0                  0.0                  0.0  ...   \n",
       "3                  0.0                  0.0                  0.0  ...   \n",
       "4                  0.0                  0.0                  0.0  ...   \n",
       "\n",
       "   type_revenu_lib_20181231  type_revenu_lib_20190930  type_trf_lib  \\\n",
       "0  All. Chomage_IndemnitÃ©s  All. Chomage_IndemnitÃ©s    Relocation   \n",
       "1            Non RenseignÃ©            Non RenseignÃ©    Relocation   \n",
       "2            Non RenseignÃ©            Non RenseignÃ©    Relocation   \n",
       "3    Autre (hors APL ou AL)    Autre (hors APL ou AL)    Relocation   \n",
       "4            Non RenseignÃ©            Non RenseignÃ©    Relocation   \n",
       "\n",
       "  cnc_tem_apl cnc_tem_sls mnt_caution_dg_ccl_std  cnc_dtdval  cnc_dtfval  \\\n",
       "0         0.0    0.000000                    0.0  2018-01-31  2100-01-01   \n",
       "1         0.0    0.000000                    0.0  2018-01-31  2100-01-01   \n",
       "2         0.0    0.000000                    0.0  2018-01-31  2100-01-01   \n",
       "3         0.0    0.571429                    0.0  2018-01-31  2100-01-01   \n",
       "4         0.0    0.000000                    0.0  2018-01-31  2100-01-01   \n",
       "\n",
       "   nan_solde_count individu_id  \n",
       "0                0           0  \n",
       "1                0           1  \n",
       "2                0           2  \n",
       "3                0           3  \n",
       "4                0           4  \n",
       "\n",
       "[5 rows x 215 columns]"
      ]
     },
     "execution_count": 106,
     "metadata": {},
     "output_type": "execute_result"
    }
   ],
   "source": [
    "individu_id = list(range(len(df)))\n",
    "df['individu_id'] = individu_id\n",
    "df.head()"
   ]
  },
  {
   "cell_type": "markdown",
   "metadata": {},
   "source": [
    "## Conversion des colonnes\n",
    "\n",
    "**On converti les dates dans le nom des colonnes pour des nombres replésentant l'écart au mois 0**\n",
    "* Les colonnes finissant par 0 correspondent au présent.\n",
    "* les colonnes finissant par un nombre positif, représentent l'écart avec le mois futurs\n",
    "* les colonnes finissants par un nombre négatif représentent les mois précédants."
   ]
  },
  {
   "cell_type": "code",
   "execution_count": 107,
   "metadata": {},
   "outputs": [
    {
     "name": "stdout",
     "output_type": "stream",
     "text": [
      "False\n"
     ]
    },
    {
     "data": {
      "text/plain": [
       "frozenbidict({0: '20180131', 1: '20180228', 2: '20180331', 3: '20180430', 4: '20180531', 5: '20180630', 6: '20180731', 7: '20180831', 8: '20180930', 9: '20181031', 10: '20181130', 11: '20181231', 12: '20190131', 13: '20190228', 14: '20190331', 15: '20190430', 16: '20190531', 17: '20190630', 18: '20190731', 19: '20190831', 20: '20190930'})"
      ]
     },
     "execution_count": 107,
     "metadata": {},
     "output_type": "execute_result"
    }
   ],
   "source": [
    "has_date = lambda s: len(s)>8 and all([l.isdigit() for l in s[-8:]])\n",
    "not_has_date = lambda s: not has_date(s)\n",
    "\n",
    "print(has_date(\"age_std_x\"))\n",
    "date_columns = filter(has_date, df.columns)\n",
    "date_str = sorted(set([date[-8:] for date in date_columns]))\n",
    "num_date = frozenbidict({num: date for num, date in zip(range(len(date_str)), date_str)})\n",
    "num_date"
   ]
  },
  {
   "cell_type": "markdown",
   "metadata": {},
   "source": [
    "## On veut renommer les variables qui changes annuelement"
   ]
  },
  {
   "cell_type": "markdown",
   "metadata": {},
   "source": [
    "On renomme 'type_revenu_lib' pour indiquer que c'est une variable qui change annualement plutot que mensuellement"
   ]
  },
  {
   "cell_type": "code",
   "execution_count": 108,
   "metadata": {},
   "outputs": [],
   "source": [
    "from collections import Counter"
   ]
  },
  {
   "cell_type": "code",
   "execution_count": 109,
   "metadata": {},
   "outputs": [
    {
     "data": {
      "text/plain": [
       "Counter({'mnt_aides_ccl_std': 21,\n",
       "         'mnt_sls_ccl_std': 21,\n",
       "         'solde_std': 21,\n",
       "         'mnt_ttc_echeance_std': 21,\n",
       "         'mnt_total_encaisse_std': 21,\n",
       "         'mnt_solde_charges_ccl_std': 20,\n",
       "         'mnt_ttc_facture_ccl_std': 21,\n",
       "         'cnc_tem_al': 11,\n",
       "         'nb_menage_autre_std': 2,\n",
       "         'nb_pacse_std': 2,\n",
       "         'nb_concubin_std': 2,\n",
       "         'nb_couple_ss_enf_std': 2,\n",
       "         'nb_celibataire_std': 2,\n",
       "         'nb_seul_std': 2,\n",
       "         'nb_veuf_std': 2,\n",
       "         'nb_couple_av_enf_std': 2,\n",
       "         'type_revenu_lib': 2,\n",
       "         'nb_sls_std': 2,\n",
       "         'nb_marie_std': 2,\n",
       "         'mnt_revenu_imp_n_std': 2,\n",
       "         'nb_monoparental_std': 2,\n",
       "         'nb_divorce_std': 2,\n",
       "         'nbr_enfant_std': 2,\n",
       "         'nbr_occupant_menage_std': 2,\n",
       "         'nb_separe_std': 2,\n",
       "         'mnt_ressource_mensuel_std': 2,\n",
       "         'mnt_plafond_plus_std': 1})"
      ]
     },
     "execution_count": 109,
     "metadata": {},
     "output_type": "execute_result"
    }
   ],
   "source": [
    "date_cols = {}\n",
    "for date in num_date.values():\n",
    "    date_cols[date] = {c for c in df.columns if date in c}\n",
    "    \n",
    "cols_count = Counter()\n",
    "for cs in date_cols.values():\n",
    "    cols_count += {'_'.join(c.split(\"_\")[:-1]):1 for c in cs}\n",
    "cols_count"
   ]
  },
  {
   "cell_type": "code",
   "execution_count": 110,
   "metadata": {},
   "outputs": [],
   "source": [
    "for col, count in cols_count.items():\n",
    "    if count<=2:\n",
    "        df.rename(\n",
    "            columns={\n",
    "                c: c[:-4] for c in df.columns if col in c \n",
    "            },\n",
    "            inplace=True\n",
    "        )"
   ]
  },
  {
   "cell_type": "code",
   "execution_count": 111,
   "metadata": {},
   "outputs": [
    {
     "name": "stdout",
     "output_type": "stream",
     "text": [
      "Index(['cnc_tem_al_-1', 'cnc_tem_al_1', 'cnc_tem_al_3', 'cnc_tem_al_5',\n",
      "       'cnc_tem_al_7', 'cnc_tem_al_9', 'cnc_tem_al_11', 'cnc_tem_al_13',\n",
      "       'cnc_tem_al_15', 'cnc_tem_al_17',\n",
      "       ...\n",
      "       'solde_std_10', 'solde_std_11', 'solde_std_12', 'solde_std_13',\n",
      "       'solde_std_14', 'solde_std_15', 'solde_std_16', 'solde_std_17',\n",
      "       'solde_std_18', 'individu_id'],\n",
      "      dtype='object', length=158)\n"
     ]
    }
   ],
   "source": [
    "def get_renamed_dated_cols_to_number_relativ(df: pd.DataFrame, num_date: dict, num: int) -> pd.DataFrame:\n",
    "    date_columns = list(filter(has_date, df.columns))\n",
    "    df_rel = df[date_columns+['individu_id']].copy()\n",
    "    for date_column in date_columns:\n",
    "        df_rel.rename(\n",
    "            columns={\n",
    "                date_column: f'{date_column[:-8]}{int(num_date.inverse[date_column[-8:]]) - num}'},\n",
    "            inplace=True\n",
    "        )\n",
    "        \n",
    "    return df_rel\n",
    "\n",
    "df_rel = get_renamed_dated_cols_to_number_relativ(df, num_date, 2)\n",
    "print(df_rel.columns)"
   ]
  },
  {
   "cell_type": "code",
   "execution_count": 112,
   "metadata": {},
   "outputs": [
    {
     "data": {
      "text/html": [
       "<div>\n",
       "<style scoped>\n",
       "    .dataframe tbody tr th:only-of-type {\n",
       "        vertical-align: middle;\n",
       "    }\n",
       "\n",
       "    .dataframe tbody tr th {\n",
       "        vertical-align: top;\n",
       "    }\n",
       "\n",
       "    .dataframe thead th {\n",
       "        text-align: right;\n",
       "    }\n",
       "</style>\n",
       "<table border=\"1\" class=\"dataframe\">\n",
       "  <thead>\n",
       "    <tr style=\"text-align: right;\">\n",
       "      <th></th>\n",
       "      <th>age_std_x</th>\n",
       "      <th>cnc_dteff</th>\n",
       "      <th>cond_loc_lib</th>\n",
       "      <th>elo_categ_financement_inii</th>\n",
       "      <th>elo_dtf_construction</th>\n",
       "      <th>elo_etage</th>\n",
       "      <th>elo_mode_chauffage</th>\n",
       "      <th>geo_cp</th>\n",
       "      <th>geo_localite</th>\n",
       "      <th>geo_region_lib</th>\n",
       "      <th>...</th>\n",
       "      <th>solde_std_11</th>\n",
       "      <th>solde_std_12</th>\n",
       "      <th>solde_std_13</th>\n",
       "      <th>solde_std_14</th>\n",
       "      <th>solde_std_15</th>\n",
       "      <th>solde_std_16</th>\n",
       "      <th>solde_std_17</th>\n",
       "      <th>solde_std_18</th>\n",
       "      <th>solde_std_19</th>\n",
       "      <th>solde_std_20</th>\n",
       "    </tr>\n",
       "  </thead>\n",
       "  <tbody>\n",
       "    <tr>\n",
       "      <th>0</th>\n",
       "      <td>50.0</td>\n",
       "      <td>2011-04-01</td>\n",
       "      <td>Non RenseignÃ©</td>\n",
       "      <td>PLC</td>\n",
       "      <td>2006-03-01</td>\n",
       "      <td>Rez Chauss</td>\n",
       "      <td>-1</td>\n",
       "      <td>-1</td>\n",
       "      <td>Non RenseignÃ©</td>\n",
       "      <td>Non RenseignÃ©</td>\n",
       "      <td>...</td>\n",
       "      <td>-2.78</td>\n",
       "      <td>-3.93</td>\n",
       "      <td>0.97</td>\n",
       "      <td>5.87</td>\n",
       "      <td>10.77</td>\n",
       "      <td>-4.33</td>\n",
       "      <td>-19.43</td>\n",
       "      <td>-34.53</td>\n",
       "      <td>-112.29</td>\n",
       "      <td>-127.39</td>\n",
       "    </tr>\n",
       "    <tr>\n",
       "      <th>1</th>\n",
       "      <td>31.0</td>\n",
       "      <td>2015-01-27</td>\n",
       "      <td>Non RenseignÃ©</td>\n",
       "      <td>PLC</td>\n",
       "      <td>2006-03-01</td>\n",
       "      <td>1Â° Ã©tage</td>\n",
       "      <td>-1</td>\n",
       "      <td>-1</td>\n",
       "      <td>Non RenseignÃ©</td>\n",
       "      <td>Non RenseignÃ©</td>\n",
       "      <td>...</td>\n",
       "      <td>0.00</td>\n",
       "      <td>709.41</td>\n",
       "      <td>0.02</td>\n",
       "      <td>404.64</td>\n",
       "      <td>850.29</td>\n",
       "      <td>606.95</td>\n",
       "      <td>606.95</td>\n",
       "      <td>0.02</td>\n",
       "      <td>-58.49</td>\n",
       "      <td>-58.49</td>\n",
       "    </tr>\n",
       "    <tr>\n",
       "      <th>2</th>\n",
       "      <td>75.0</td>\n",
       "      <td>1991-09-01</td>\n",
       "      <td>Non RenseignÃ©</td>\n",
       "      <td>PLA</td>\n",
       "      <td>1953-01-01</td>\n",
       "      <td>1Â° Ã©tage</td>\n",
       "      <td>-1</td>\n",
       "      <td>62990</td>\n",
       "      <td>ROYON</td>\n",
       "      <td>NORD-PAS-DE-CALAIS</td>\n",
       "      <td>...</td>\n",
       "      <td>-43.22</td>\n",
       "      <td>50.00</td>\n",
       "      <td>50.00</td>\n",
       "      <td>496.20</td>\n",
       "      <td>744.30</td>\n",
       "      <td>992.40</td>\n",
       "      <td>0.00</td>\n",
       "      <td>0.00</td>\n",
       "      <td>0.00</td>\n",
       "      <td>-193.73</td>\n",
       "    </tr>\n",
       "    <tr>\n",
       "      <th>3</th>\n",
       "      <td>59.0</td>\n",
       "      <td>1986-03-01</td>\n",
       "      <td>Non RenseignÃ©</td>\n",
       "      <td>PLA</td>\n",
       "      <td>1953-01-01</td>\n",
       "      <td>Rez Chauss</td>\n",
       "      <td>-1</td>\n",
       "      <td>62990</td>\n",
       "      <td>ROYON</td>\n",
       "      <td>NORD-PAS-DE-CALAIS</td>\n",
       "      <td>...</td>\n",
       "      <td>0.00</td>\n",
       "      <td>0.00</td>\n",
       "      <td>0.00</td>\n",
       "      <td>0.00</td>\n",
       "      <td>0.00</td>\n",
       "      <td>0.00</td>\n",
       "      <td>0.00</td>\n",
       "      <td>0.00</td>\n",
       "      <td>0.00</td>\n",
       "      <td>-169.37</td>\n",
       "    </tr>\n",
       "    <tr>\n",
       "      <th>4</th>\n",
       "      <td>61.0</td>\n",
       "      <td>1989-09-15</td>\n",
       "      <td>Non RenseignÃ©</td>\n",
       "      <td>HLM</td>\n",
       "      <td>1966-01-01</td>\n",
       "      <td>1Â° Ã©tage</td>\n",
       "      <td>-1</td>\n",
       "      <td>-1</td>\n",
       "      <td>Non RenseignÃ©</td>\n",
       "      <td>Non RenseignÃ©</td>\n",
       "      <td>...</td>\n",
       "      <td>0.00</td>\n",
       "      <td>0.00</td>\n",
       "      <td>0.00</td>\n",
       "      <td>0.00</td>\n",
       "      <td>0.00</td>\n",
       "      <td>0.00</td>\n",
       "      <td>0.00</td>\n",
       "      <td>0.00</td>\n",
       "      <td>0.00</td>\n",
       "      <td>-11.94</td>\n",
       "    </tr>\n",
       "    <tr>\n",
       "      <th>...</th>\n",
       "      <td>...</td>\n",
       "      <td>...</td>\n",
       "      <td>...</td>\n",
       "      <td>...</td>\n",
       "      <td>...</td>\n",
       "      <td>...</td>\n",
       "      <td>...</td>\n",
       "      <td>...</td>\n",
       "      <td>...</td>\n",
       "      <td>...</td>\n",
       "      <td>...</td>\n",
       "      <td>...</td>\n",
       "      <td>...</td>\n",
       "      <td>...</td>\n",
       "      <td>...</td>\n",
       "      <td>...</td>\n",
       "      <td>...</td>\n",
       "      <td>...</td>\n",
       "      <td>...</td>\n",
       "      <td>...</td>\n",
       "      <td>...</td>\n",
       "    </tr>\n",
       "    <tr>\n",
       "      <th>8220</th>\n",
       "      <td>27.0</td>\n",
       "      <td>2013-10-30</td>\n",
       "      <td>Non RenseignÃ©</td>\n",
       "      <td>-1</td>\n",
       "      <td>2013-10-30</td>\n",
       "      <td>Rez chauss</td>\n",
       "      <td>Individuel gaz</td>\n",
       "      <td>63160</td>\n",
       "      <td>EGLISENEUVE-PRES-BILLOM</td>\n",
       "      <td>AUVERGNE</td>\n",
       "      <td>...</td>\n",
       "      <td>NaN</td>\n",
       "      <td>0.00</td>\n",
       "      <td>0.00</td>\n",
       "      <td>0.00</td>\n",
       "      <td>0.00</td>\n",
       "      <td>0.00</td>\n",
       "      <td>0.00</td>\n",
       "      <td>0.00</td>\n",
       "      <td>0.00</td>\n",
       "      <td>0.00</td>\n",
       "    </tr>\n",
       "    <tr>\n",
       "      <th>8221</th>\n",
       "      <td>40.0</td>\n",
       "      <td>2015-12-14</td>\n",
       "      <td>Non RenseignÃ©</td>\n",
       "      <td>-1</td>\n",
       "      <td>2015-12-14</td>\n",
       "      <td>Rez jardin</td>\n",
       "      <td>chauffage individuel gaz</td>\n",
       "      <td>89330</td>\n",
       "      <td>PIFFONDS</td>\n",
       "      <td>BOURGOGNE</td>\n",
       "      <td>...</td>\n",
       "      <td>NaN</td>\n",
       "      <td>0.00</td>\n",
       "      <td>0.00</td>\n",
       "      <td>0.00</td>\n",
       "      <td>0.00</td>\n",
       "      <td>0.00</td>\n",
       "      <td>0.00</td>\n",
       "      <td>0.00</td>\n",
       "      <td>0.00</td>\n",
       "      <td>0.00</td>\n",
       "    </tr>\n",
       "    <tr>\n",
       "      <th>8222</th>\n",
       "      <td>46.0</td>\n",
       "      <td>2007-12-16</td>\n",
       "      <td>Non RenseignÃ©</td>\n",
       "      <td>-1</td>\n",
       "      <td>1976-01-01</td>\n",
       "      <td>Rez Chauss</td>\n",
       "      <td>-1</td>\n",
       "      <td>55140</td>\n",
       "      <td>BUREY-LA-COTE</td>\n",
       "      <td>LORRAINE</td>\n",
       "      <td>...</td>\n",
       "      <td>NaN</td>\n",
       "      <td>NaN</td>\n",
       "      <td>0.00</td>\n",
       "      <td>0.00</td>\n",
       "      <td>0.00</td>\n",
       "      <td>0.00</td>\n",
       "      <td>0.00</td>\n",
       "      <td>0.00</td>\n",
       "      <td>0.00</td>\n",
       "      <td>0.00</td>\n",
       "    </tr>\n",
       "    <tr>\n",
       "      <th>8223</th>\n",
       "      <td>61.0</td>\n",
       "      <td>1999-11-15</td>\n",
       "      <td>Non RenseignÃ©</td>\n",
       "      <td>-1</td>\n",
       "      <td>1993-08-01</td>\n",
       "      <td>Rez Chauss</td>\n",
       "      <td>-1</td>\n",
       "      <td>31450</td>\n",
       "      <td>NOUEILLES</td>\n",
       "      <td>MIDI-PYRENEES</td>\n",
       "      <td>...</td>\n",
       "      <td>NaN</td>\n",
       "      <td>NaN</td>\n",
       "      <td>255.92</td>\n",
       "      <td>127.97</td>\n",
       "      <td>0.00</td>\n",
       "      <td>0.00</td>\n",
       "      <td>0.00</td>\n",
       "      <td>-0.12</td>\n",
       "      <td>0.00</td>\n",
       "      <td>0.00</td>\n",
       "    </tr>\n",
       "    <tr>\n",
       "      <th>8224</th>\n",
       "      <td>62.0</td>\n",
       "      <td>2011-01-01</td>\n",
       "      <td>Non RenseignÃ©</td>\n",
       "      <td>-1</td>\n",
       "      <td>1978-02-01</td>\n",
       "      <td>4Â° Ã©tage</td>\n",
       "      <td>Individuel gaz</td>\n",
       "      <td>40800</td>\n",
       "      <td>SAINT-AGNET</td>\n",
       "      <td>AQUITAINE</td>\n",
       "      <td>...</td>\n",
       "      <td>NaN</td>\n",
       "      <td>NaN</td>\n",
       "      <td>0.00</td>\n",
       "      <td>0.00</td>\n",
       "      <td>0.00</td>\n",
       "      <td>0.00</td>\n",
       "      <td>0.00</td>\n",
       "      <td>0.00</td>\n",
       "      <td>0.00</td>\n",
       "      <td>-313.03</td>\n",
       "    </tr>\n",
       "  </tbody>\n",
       "</table>\n",
       "<p>8225 rows × 215 columns</p>\n",
       "</div>"
      ],
      "text/plain": [
       "      age_std_x   cnc_dteff    cond_loc_lib elo_categ_financement_inii  \\\n",
       "0          50.0  2011-04-01  Non RenseignÃ©                        PLC   \n",
       "1          31.0  2015-01-27  Non RenseignÃ©                        PLC   \n",
       "2          75.0  1991-09-01  Non RenseignÃ©                        PLA   \n",
       "3          59.0  1986-03-01  Non RenseignÃ©                        PLA   \n",
       "4          61.0  1989-09-15  Non RenseignÃ©                        HLM   \n",
       "...         ...         ...             ...                        ...   \n",
       "8220       27.0  2013-10-30  Non RenseignÃ©                         -1   \n",
       "8221       40.0  2015-12-14  Non RenseignÃ©                         -1   \n",
       "8222       46.0  2007-12-16  Non RenseignÃ©                         -1   \n",
       "8223       61.0  1999-11-15  Non RenseignÃ©                         -1   \n",
       "8224       62.0  2011-01-01  Non RenseignÃ©                         -1   \n",
       "\n",
       "     elo_dtf_construction   elo_etage        elo_mode_chauffage  geo_cp  \\\n",
       "0              2006-03-01  Rez Chauss                        -1      -1   \n",
       "1              2006-03-01  1Â° Ã©tage                        -1      -1   \n",
       "2              1953-01-01  1Â° Ã©tage                        -1   62990   \n",
       "3              1953-01-01  Rez Chauss                        -1   62990   \n",
       "4              1966-01-01  1Â° Ã©tage                        -1      -1   \n",
       "...                   ...         ...                       ...     ...   \n",
       "8220           2013-10-30  Rez chauss            Individuel gaz   63160   \n",
       "8221           2015-12-14  Rez jardin  chauffage individuel gaz   89330   \n",
       "8222           1976-01-01  Rez Chauss                        -1   55140   \n",
       "8223           1993-08-01  Rez Chauss                        -1   31450   \n",
       "8224           1978-02-01  4Â° Ã©tage            Individuel gaz   40800   \n",
       "\n",
       "                 geo_localite      geo_region_lib  ...  solde_std_11  \\\n",
       "0              Non RenseignÃ©      Non RenseignÃ©  ...         -2.78   \n",
       "1              Non RenseignÃ©      Non RenseignÃ©  ...          0.00   \n",
       "2                       ROYON  NORD-PAS-DE-CALAIS  ...        -43.22   \n",
       "3                       ROYON  NORD-PAS-DE-CALAIS  ...          0.00   \n",
       "4              Non RenseignÃ©      Non RenseignÃ©  ...          0.00   \n",
       "...                       ...                 ...  ...           ...   \n",
       "8220  EGLISENEUVE-PRES-BILLOM            AUVERGNE  ...           NaN   \n",
       "8221                 PIFFONDS           BOURGOGNE  ...           NaN   \n",
       "8222            BUREY-LA-COTE            LORRAINE  ...           NaN   \n",
       "8223                NOUEILLES       MIDI-PYRENEES  ...           NaN   \n",
       "8224              SAINT-AGNET           AQUITAINE  ...           NaN   \n",
       "\n",
       "      solde_std_12  solde_std_13  solde_std_14  solde_std_15  solde_std_16  \\\n",
       "0            -3.93          0.97          5.87         10.77         -4.33   \n",
       "1           709.41          0.02        404.64        850.29        606.95   \n",
       "2            50.00         50.00        496.20        744.30        992.40   \n",
       "3             0.00          0.00          0.00          0.00          0.00   \n",
       "4             0.00          0.00          0.00          0.00          0.00   \n",
       "...            ...           ...           ...           ...           ...   \n",
       "8220          0.00          0.00          0.00          0.00          0.00   \n",
       "8221          0.00          0.00          0.00          0.00          0.00   \n",
       "8222           NaN          0.00          0.00          0.00          0.00   \n",
       "8223           NaN        255.92        127.97          0.00          0.00   \n",
       "8224           NaN          0.00          0.00          0.00          0.00   \n",
       "\n",
       "      solde_std_17  solde_std_18  solde_std_19  solde_std_20  \n",
       "0           -19.43        -34.53       -112.29       -127.39  \n",
       "1           606.95          0.02        -58.49        -58.49  \n",
       "2             0.00          0.00          0.00       -193.73  \n",
       "3             0.00          0.00          0.00       -169.37  \n",
       "4             0.00          0.00          0.00        -11.94  \n",
       "...            ...           ...           ...           ...  \n",
       "8220          0.00          0.00          0.00          0.00  \n",
       "8221          0.00          0.00          0.00          0.00  \n",
       "8222          0.00          0.00          0.00          0.00  \n",
       "8223          0.00         -0.12          0.00          0.00  \n",
       "8224          0.00          0.00          0.00       -313.03  \n",
       "\n",
       "[8225 rows x 215 columns]"
      ]
     },
     "execution_count": 112,
     "metadata": {},
     "output_type": "execute_result"
    }
   ],
   "source": [
    "df_base = df[filter(not_has_date, df.columns)]\n",
    "df_base_rels = [0]*len(num_date)\n",
    "for i in num_date:\n",
    "    df_rel = get_renamed_dated_cols_to_number_relativ(df, num_date, i)\n",
    "    df_base_rels[i] = pd.merge(\n",
    "        left=df_base, \n",
    "        right=df_rel,\n",
    "        on=\"individu_id\",\n",
    "        suffixes=('','_y')\n",
    "    )\n",
    "    df_base_rels[i].drop(df_base_rels[i].filter(regex='_y$').columns.tolist(),axis=1, inplace=True)\n",
    "df_base_rels[0]"
   ]
  },
  {
   "cell_type": "code",
   "execution_count": 113,
   "metadata": {},
   "outputs": [
    {
     "data": {
      "text/plain": [
       "1530"
      ]
     },
     "execution_count": 113,
     "metadata": {},
     "output_type": "execute_result"
    }
   ],
   "source": [
    "df_base_rels[0][\"solde_std_0\"].isna().sum()"
   ]
  },
  {
   "cell_type": "code",
   "execution_count": 114,
   "metadata": {},
   "outputs": [],
   "source": [
    " # here restriction by slice 3 because my computer crashes \n",
    "df_base_rel = pd.concat(df_base_rels[:])"
   ]
  },
  {
   "cell_type": "code",
   "execution_count": 115,
   "metadata": {},
   "outputs": [
    {
     "name": "stdout",
     "output_type": "stream",
     "text": [
      "(172725, 385)\n"
     ]
    }
   ],
   "source": [
    "#sorted(df_base_rel.columns.values)\n",
    "print(df_base_rel.shape)\n",
    "#df_base_rel[\"solde_std_2\"].isna().sum()"
   ]
  },
  {
   "cell_type": "markdown",
   "metadata": {},
   "source": [
    "Par example les colonnes solde:\n",
    "'solde_std_-1',\n",
    " 'solde_std_-10',\n",
    " 'solde_std_-11',\n",
    " 'solde_std_-12',\n",
    " 'solde_std_-13',\n",
    " 'solde_std_-14',\n",
    " 'solde_std_-15',\n",
    " 'solde_std_-16',\n",
    " 'solde_std_-17',\n",
    " 'solde_std_-18',\n",
    " 'solde_std_-19',\n",
    " 'solde_std_-2',\n",
    " 'solde_std_-20',\n",
    " 'solde_std_-3',\n",
    " 'solde_std_-4',\n",
    " 'solde_std_-5',\n",
    " 'solde_std_-6',\n",
    " 'solde_std_-7',\n",
    " 'solde_std_-8',\n",
    " 'solde_std_-9',\n",
    " 'solde_std_0',\n",
    " 'solde_std_1',\n",
    " 'solde_std_10',\n",
    " 'solde_std_11',\n",
    " 'solde_std_12',\n",
    " 'solde_std_13',\n",
    " 'solde_std_14',\n",
    " 'solde_std_15',\n",
    " 'solde_std_16',\n",
    " 'solde_std_17',\n",
    " 'solde_std_18',\n",
    " 'solde_std_19',\n",
    " 'solde_std_2',\n",
    " 'solde_std_20',\n",
    " 'solde_std_3',\n",
    " 'solde_std_4',\n",
    " 'solde_std_5',\n",
    " 'solde_std_6',\n",
    " 'solde_std_7',\n",
    " 'solde_std_8',\n",
    " 'solde_std_9',\n",
    " \n",
    " On peut utiliser les colonnes avec des mois négatifs comme des features. \n",
    " \n",
    " Les colonnes positives sont des colonnes utilisées comme target.\n",
    " \n",
    " les colonnes avec 0 doivent être considéré comme le mois présent"
   ]
  },
  {
   "cell_type": "markdown",
   "metadata": {},
   "source": [
    "### selection d'une ligne par individu"
   ]
  },
  {
   "cell_type": "code",
   "execution_count": 116,
   "metadata": {},
   "outputs": [],
   "source": [
    "#df_base_rel.drop_duplicates(\"individu_id\", inplace=True)"
   ]
  },
  {
   "cell_type": "markdown",
   "metadata": {},
   "source": [
    "### remove cols with to many Nans before saving to csv"
   ]
  },
  {
   "cell_type": "code",
   "execution_count": 117,
   "metadata": {},
   "outputs": [
    {
     "data": {
      "text/plain": [
       "Text(0, 0.5, '# of columns whare the Nans proportion < l')"
      ]
     },
     "execution_count": 117,
     "metadata": {},
     "output_type": "execute_result"
    },
    {
     "data": {
      "image/png": "[encoded data removed]",
      "text/plain": [
       "<Figure size 432x288 with 1 Axes>"
      ]
     },
     "metadata": {
      "needs_background": "light"
     },
     "output_type": "display_data"
    }
   ],
   "source": [
    "sum_nan = df_base_rel.isna().sum()\n",
    "fig, ax = plt.subplots()\n",
    "ax.plot(\n",
    "    np.arange(2,101)/100, \n",
    "    [len([c for c in df_base_rel.columns if sum_nan[c]/len(df_base_rel) < limit/100]) for limit in range(2,101)]\n",
    ")\n",
    "ax.set_xlabel(\"proportion limit 'l'\")\n",
    "ax.set_ylabel(\"# of columns whare the Nans proportion < l\")"
   ]
  },
  {
   "cell_type": "code",
   "execution_count": 118,
   "metadata": {},
   "outputs": [
    {
     "data": {
      "text/plain": [
       "(172725, 385)"
      ]
     },
     "execution_count": 118,
     "metadata": {},
     "output_type": "execute_result"
    }
   ],
   "source": [
    "col_with_data = [c for c in df_base_rel.columns if sum_nan[c]/len(df_base_rel) < 1]\n",
    "df_base_rel[col_with_data].shape"
   ]
  },
  {
   "cell_type": "code",
   "execution_count": 119,
   "metadata": {},
   "outputs": [],
   "source": [
    "df_base_rel_with_data = df_base_rel[col_with_data]"
   ]
  },
  {
   "cell_type": "markdown",
   "metadata": {},
   "source": [
    "### Remplacer les valeurs manquantes par des Nans"
   ]
  },
  {
   "cell_type": "code",
   "execution_count": 120,
   "metadata": {},
   "outputs": [],
   "source": [
    "df_base_rel_with_data = df_base_rel_with_data.replace(\"Non RenseignÃ©\",np.nan)"
   ]
  },
  {
   "cell_type": "code",
   "execution_count": 121,
   "metadata": {},
   "outputs": [],
   "source": [
    "non_numerical = df_base_rel_with_data.select_dtypes(exclude=np.number).columns.tolist()"
   ]
  },
  {
   "cell_type": "code",
   "execution_count": 122,
   "metadata": {},
   "outputs": [],
   "source": [
    "df_base_rel_with_data[non_numerical] = df_base_rel_with_data[non_numerical].replace('-1', np.nan)"
   ]
  },
  {
   "cell_type": "code",
   "execution_count": 123,
   "metadata": {},
   "outputs": [],
   "source": [
    "sum_nan = df_base_rel_with_data.isna().sum()\n",
    "non_numerical_with_data = [c for c in df_base_rel_with_data.columns if sum_nan[c]/len(df_base_rel_with_data) < .933]\n",
    "df_base_rel_with_data = df_base_rel_with_data[non_numerical_with_data]"
   ]
  },
  {
   "cell_type": "markdown",
   "metadata": {},
   "source": [
    "Let's remove rows where there is no data in the future"
   ]
  },
  {
   "cell_type": "code",
   "execution_count": 124,
   "metadata": {},
   "outputs": [],
   "source": [
    "future_cols = [c for c in df_base_rel_with_data if c.split('_')[-1].isdigit() and 21>int(c.split('_')[-1])>0]"
   ]
  },
  {
   "cell_type": "code",
   "execution_count": 125,
   "metadata": {},
   "outputs": [
    {
     "data": {
      "text/plain": [
       "163066"
      ]
     },
     "execution_count": 125,
     "metadata": {},
     "output_type": "execute_result"
    }
   ],
   "source": [
    "df_base_rel_with_data = df_base_rel_with_data.dropna(\n",
    "    axis=0,\n",
    "    thresh=1,\n",
    "    subset=future_cols,\n",
    ")\n",
    "len(df_base_rel_with_data)"
   ]
  },
  {
   "cell_type": "markdown",
   "metadata": {},
   "source": [
    "Let's remove rows where there is no data in the past"
   ]
  },
  {
   "cell_type": "code",
   "execution_count": 126,
   "metadata": {},
   "outputs": [],
   "source": [
    "past_cols = [c for c in df_base_rel_with_data if c.split('_')[-1][0] in ('-','0')]"
   ]
  },
  {
   "cell_type": "code",
   "execution_count": 127,
   "metadata": {},
   "outputs": [
    {
     "data": {
      "text/plain": [
       "147934"
      ]
     },
     "execution_count": 127,
     "metadata": {},
     "output_type": "execute_result"
    }
   ],
   "source": [
    "df_base_rel_with_data = df_base_rel_with_data.dropna(\n",
    "    axis=0,\n",
    "    thresh=1,\n",
    "    subset=past_cols,\n",
    ")\n",
    "len(df_base_rel_with_data)"
   ]
  },
  {
   "cell_type": "code",
   "execution_count": 128,
   "metadata": {},
   "outputs": [
    {
     "data": {
      "text/plain": [
       "<AxesSubplot:>"
      ]
     },
     "execution_count": 128,
     "metadata": {},
     "output_type": "execute_result"
    },
    {
     "data": {
      "image/png": "[encoded data removed]",
      "text/plain": [
       "<Figure size 1800x720 with 2 Axes>"
      ]
     },
     "metadata": {
      "needs_background": "light"
     },
     "output_type": "display_data"
    }
   ],
   "source": [
    "non_numerical = set(non_numerical)&set(df_base_rel_with_data.columns.values)\n",
    "msno.matrix(df_base_rel_with_data[non_numerical])"
   ]
  },
  {
   "cell_type": "markdown",
   "metadata": {},
   "source": [
    "### merge some columns to save space"
   ]
  },
  {
   "cell_type": "code",
   "execution_count": 129,
   "metadata": {},
   "outputs": [],
   "source": [
    "def get_str_num(s):\n",
    "    n = s.split('_')[-1]\n",
    "    if n[-1].isdigit():\n",
    "        return int(n)\n",
    "    \n",
    "def get_feature_and_months_col(columns: list, m_min: int, m_max: int, target: str=None)->list:\n",
    "    assert m_min <= m_max, 'the first month should be smaller than the last'\n",
    "    if target:\n",
    "        features = [c for c in columns if c==target or get_str_num(c)!=None and m_min<=get_str_num(c)<=m_max ]\n",
    "    else:\n",
    "        features = [c for c in columns if get_str_num(c)!=None and m_min<=get_str_num(c)<=m_max ]\n",
    "    return features"
   ]
  },
  {
   "cell_type": "code",
   "execution_count": 130,
   "metadata": {},
   "outputs": [],
   "source": [
    "history_cols = get_feature_and_months_col(df_base_rel_with_data, -2, 0)"
   ]
  },
  {
   "cell_type": "code",
   "execution_count": 131,
   "metadata": {},
   "outputs": [
    {
     "data": {
      "text/plain": [
       "<AxesSubplot:>"
      ]
     },
     "execution_count": 131,
     "metadata": {},
     "output_type": "execute_result"
    },
    {
     "data": {
      "image/png": "[encoded data removed]",
      "text/plain": [
       "<Figure size 1800x720 with 2 Axes>"
      ]
     },
     "metadata": {
      "needs_background": "light"
     },
     "output_type": "display_data"
    }
   ],
   "source": [
    "msno.matrix(df_base_rel_with_data[history_cols])"
   ]
  },
  {
   "cell_type": "markdown",
   "metadata": {},
   "source": [
    "### il faut fusionner les cnc_tem_al tout les deux mois"
   ]
  },
  {
   "cell_type": "code",
   "execution_count": 138,
   "metadata": {},
   "outputs": [],
   "source": [
    "for m in range(-20, 20, 2):\n",
    "    if  all(c in df_base_rel_with_data.columns for c in [f'cnc_tem_al_{m}',f'cnc_tem_al_{m-1}']):\n",
    "        df_base_rel_with_data[f'cnc_tem_al_{m}'].fillna(\n",
    "            value=df_base_rel_with_data[f'cnc_tem_al_{m-1}'],\n",
    "            inplace=True\n",
    "        )\n",
    "        df_base_rel_with_data.drop(\n",
    "            columns=f'cnc_tem_al_{m-1}',\n",
    "            inplace=True\n",
    "        )"
   ]
  },
  {
   "cell_type": "code",
   "execution_count": 140,
   "metadata": {},
   "outputs": [
    {
     "data": {
      "text/plain": [
       "<AxesSubplot:>"
      ]
     },
     "execution_count": 140,
     "metadata": {},
     "output_type": "execute_result"
    },
    {
     "data": {
      "image/png": "[encoded data removed]",
      "text/plain": [
       "<Figure size 1800x720 with 2 Axes>"
      ]
     },
     "metadata": {
      "needs_background": "light"
     },
     "output_type": "display_data"
    }
   ],
   "source": [
    "history_cols = get_feature_and_months_col(df_base_rel_with_data, -2, 0)\n",
    "msno.matrix(df_base_rel_with_data[history_cols])"
   ]
  },
  {
   "cell_type": "markdown",
   "metadata": {},
   "source": [
    "## generate csv"
   ]
  },
  {
   "cell_type": "code",
   "execution_count": 141,
   "metadata": {},
   "outputs": [],
   "source": [
    "df_base_rel_with_data.to_csv(\"df_protocole_2_lessNans.csv\")"
   ]
  },
  {
   "cell_type": "code",
   "execution_count": null,
   "metadata": {},
   "outputs": [],
   "source": []
  }
 ],
 "metadata": {
  "kernelspec": {
   "display_name": "Python 3.6.9 64-bit",
   "language": "python",
   "name": "python36964bit0eac3114af1f4d188020e9f5b41e4f43"
  },
  "language_info": {
   "codemirror_mode": {
    "name": "ipython",
    "version": 3
   },
   "file_extension": ".py",
   "mimetype": "text/x-python",
   "name": "python",
   "nbconvert_exporter": "python",
   "pygments_lexer": "ipython3",
   "version": "3.6.9"
  }
 },
 "nbformat": 4,
 "nbformat_minor": 4
}
